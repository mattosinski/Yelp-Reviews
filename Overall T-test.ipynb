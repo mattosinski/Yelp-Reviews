{
 "cells": [
  {
   "cell_type": "code",
   "execution_count": 13,
   "metadata": {
    "collapsed": true
   },
   "outputs": [],
   "source": [
    "from __future__ import print_function\n",
    "from collections import Counter\n",
    "from collections import OrderedDict\n",
    "import os\n",
    "import numpy as np\n",
    "import numpy\n",
    "import pandas as pd\n",
    "from scipy import optimize\n",
    "import matplotlib.mlab as mlab\n",
    "import matplotlib.pyplot as plt\n",
    "%matplotlib inline\n",
    "import pickle\n",
    "import calendar\n",
    "import datetime\n",
    "import re\n",
    "from math import log\n",
    "from scipy import stats\n",
    "import nltk\n",
    "from nltk.corpus import stopwords\n",
    "from sklearn.feature_extraction.text import TfidfVectorizer\n",
    "from array import array\n",
    "from sklearn import preprocessing\n",
    "from scipy.stats import boxcox\n",
    "from scipy.stats import ttest_1samp, wilcoxon, ttest_ind, mannwhitneyu"
   ]
  },
  {
   "cell_type": "code",
   "execution_count": 15,
   "metadata": {
    "collapsed": false
   },
   "outputs": [],
   "source": [
    "#load the pickle object for quick access\n",
    "result = pd.read_pickle(\"/Users/Matt/Documents/Stevens/BIA660 Web Analytics/yelp_dataset_challenge_academic_dataset/Data/500_Dataset\")"
   ]
  },
  {
   "cell_type": "code",
   "execution_count": 16,
   "metadata": {
    "collapsed": true
   },
   "outputs": [],
   "source": [
    "def exploreBusiness(businessID):\n",
    "    #exploratory Analysis for business ID mpDxBBGywUE6GRRKja3sBA\n",
    "    business1 = result[result[\"business_id\"]==businessID]\n",
    "    #change date into datetime\n",
    "    business1['date'] = pd.to_datetime(business1['date'])\n",
    "    business1['Year-Month'] = business1.date.map(lambda x: x.strftime('%Y-%m'))\n",
    "    business1['Qdate'] = [date - pd.tseries.offsets.DateOffset(days=1) + pd.tseries.offsets.QuarterEnd() for date in business1.date]\n",
    "    #review_counts = business1.groupby('Year-Month')['review_id'].count()\n",
    "    review_counts = business1.groupby('Qdate')['stars_x'].mean() #grab the mean number of reviews\n",
    "    return review_counts, business1"
   ]
  },
  {
   "cell_type": "code",
   "execution_count": 17,
   "metadata": {
    "collapsed": false
   },
   "outputs": [],
   "source": [
    "# runs a 1 sample t test to compare a new month with the previous months\n",
    "# https://stats.stackexchange.com/questions/198825/compare-previous-month-to-all-other-previous-months-performance\n",
    "# http://iaingallagher.tumblr.com/post/50980987285/t-tests-in-python\n",
    "#if stats.shapiro(review_counts)[1] >0.05:\n",
    "#    normal_data=1\n",
    "def Ttest_Anomaly_Detection(review_counts):\n",
    "    anomaly = OrderedDict() #initialize dict\n",
    "    d = OrderedDict()\n",
    "    normal_data=0\n",
    "    if stats.shapiro(review_counts)[1] >0.05:\n",
    "        normal_data=1\n",
    "    #one_sample_data = review_counts.values\n",
    "    for ind, value in review_counts.iteritems():\n",
    "        d[ind] = value\n",
    "        #anomaly[ind]=-1\n",
    "        if len(d) >= 31: #need 30 samples because the data is non-normal\n",
    "            #t-test to compare the next month/year sample to the mean of all the prior ones\n",
    "            one_sample_data = d.values()[0:(len(d)-1)]\n",
    "            one_sample = stats.ttest_1samp(one_sample_data,value) #compares the entire period\n",
    "            #one_sample = stats.wilcoxon(one_sample_data-value)\n",
    "            #print(ind,value, one_sample_data)\n",
    "            #print(len(d))\n",
    "            if one_sample.pvalue < 0.01: #null hypothesis: new sample = prior mean\n",
    "                anomaly[ind]=1  #there is a statistically signifant difference, where the new sample != prior mean   \n",
    "    return anomaly, normal_data"
   ]
  },
  {
   "cell_type": "code",
   "execution_count": 18,
   "metadata": {
    "collapsed": true
   },
   "outputs": [],
   "source": [
    "#locate the period where there is a change in the anomaly[ind] values\n",
    "#returns a dict where an anomaly is coded as a 1\n",
    "def choosePeriods(anomaly):\n",
    "    period={}\n",
    "    keylist = anomaly.keys()\n",
    "    keylist.sort()\n",
    "    for key in keylist:\n",
    "        if anomaly[key] == 1:\n",
    "            period[key]=1\n",
    "        else:\n",
    "            period[key]=0\n",
    "    return period   "
   ]
  },
  {
   "cell_type": "code",
   "execution_count": 19,
   "metadata": {
    "collapsed": false
   },
   "outputs": [],
   "source": [
    "#show a summary of the top words of ALL the anomalies for a given business\n",
    "def textAnalysis_of_Anomaly(business_df, business_id, period):\n",
    "    common={}\n",
    "    final=''\n",
    "    keylist = period.keys()\n",
    "    keylist.sort()\n",
    "    words_test=[]\n",
    "    for key in keylist:\n",
    "        if period[key] == 1:\n",
    "            text=business_df[(business_df['Qdate']==key)].text\n",
    "            text=text.to_string()\n",
    "            text = re.sub('\\W+', ' ',text)\n",
    "            default_stopwords = set(nltk.corpus.stopwords.words('english'))\n",
    "            custom_stopwords = set((u'–', '...'))\n",
    "            all_stopwords = default_stopwords | custom_stopwords\n",
    "            words = nltk.word_tokenize(text)\n",
    "\n",
    "            words = [word for word in words if len(word) > 2] #remove words that are only 1 character\n",
    "            # Remove numbers\n",
    "            words = [word for word in words if not word.isnumeric()]\n",
    "\n",
    "            # Lowercase all words (default_stopwords are lowercase too)\n",
    "            words = [word.lower() for word in words]\n",
    "\n",
    "            #remove words that are stopwords\n",
    "            words = [word for word in words if word not in all_stopwords]\n",
    "            words_test += words\n",
    "\n",
    "    #print(words_test)\n",
    "    # Calculate frequency distribution\n",
    "    fdist = nltk.FreqDist(words_test)\n",
    "\n",
    "    for word, frequency in fdist.most_common(10):\n",
    "        final+=str(word+' ')\n",
    "    common[business_id] = final\n",
    "\n",
    "    return business_id, common"
   ]
  },
  {
   "cell_type": "code",
   "execution_count": 20,
   "metadata": {
    "collapsed": true
   },
   "outputs": [],
   "source": [
    "#NOT USED - outputs the most common words for each anomaly found for a business\n",
    "def getCommonWordsForEachAnomaly(business_df, business_id, period):\n",
    "    common={}\n",
    "    keylist = period.keys()\n",
    "    keylist.sort()\n",
    "    for key in keylist:\n",
    "        final=''\n",
    "        if period[key] == 1:\n",
    "            text=business_df[(business_df['Qdate']==key)].text\n",
    "            text=text.to_string()\n",
    "            text = re.sub('\\W+', ' ',text)\n",
    "            default_stopwords = set(nltk.corpus.stopwords.words('english'))\n",
    "            custom_stopwords = set((u'–', '...'))\n",
    "            all_stopwords = default_stopwords | custom_stopwords\n",
    "            words = nltk.word_tokenize(text)\n",
    "            \n",
    "            words = [word for word in words if len(word) > 2] #remove words that are only 1 character\n",
    "            # Remove numbers\n",
    "            words = [word for word in words if not word.isnumeric()]\n",
    "\n",
    "            # Lowercase all words (default_stopwords are lowercase too)\n",
    "            words = [word.lower() for word in words]\n",
    "\n",
    "            #remove words that are stopwords\n",
    "            words = [word for word in words if word not in all_stopwords]\n",
    "\n",
    "            # Calculate frequency distribution\n",
    "            fdist = nltk.FreqDist(words)\n",
    "            \n",
    "            for word, frequency in fdist.most_common(5):\n",
    "                final+=str(word+' ')\n",
    "        common[key] = final\n",
    "    \n",
    "    return business_id, common"
   ]
  },
  {
   "cell_type": "code",
   "execution_count": 21,
   "metadata": {
    "collapsed": false
   },
   "outputs": [],
   "source": [
    "def createDataForPlot(anomaly, review_counts):\n",
    "    anomaly_list = anomaly.items()\n",
    "    anomaly_list = pd.DataFrame(anomaly_list)\n",
    "    anomaly_list.columns = ['Qdate','Anomaly']\n",
    "    review_df = pd.DataFrame(review_counts)\n",
    "    review_df = review_df.reset_index()\n",
    "    review_df.columns = ['Qdate','Mean_Rating']\n",
    "    merged_plot_df = pd.merge(review_df, anomaly_list, how='left', on=['Qdate'])\n",
    "    merged_plot_df = merged_plot_df.fillna(value=0)\n",
    "    return merged_plot_df"
   ]
  },
  {
   "cell_type": "code",
   "execution_count": 39,
   "metadata": {
    "collapsed": true
   },
   "outputs": [],
   "source": [
    "def makeFolder(common, merged_plot_df, business_id):\n",
    "    os.chdir('/Users/Matt/Documents/Stevens/BIA660 Web Analytics/yelp_dataset_challenge_academic_dataset')\n",
    "    if not os.path.exists('Results'):\n",
    "        os.makedirs('Results')\n",
    "    os.chdir('/Users/Matt/Documents/Stevens/BIA660 Web Analytics/yelp_dataset_challenge_academic_dataset/Results')\n",
    "    working_directory = os.getcwd()\n",
    "    BusinessID=str(business_id)\n",
    "    Text = \"Business ID: \"+BusinessID +\"\\n\"+ \"Top 10 common words: \" + str(common.values()[0])\n",
    "    #if not os.path.exists(BusinessID):\n",
    "    os.makedirs(BusinessID)\n",
    "    os.chdir(BusinessID)\n",
    "    \n",
    "\n",
    "    filename=common.values()[0]+\".txt\"\n",
    "    \n",
    "    file1 = open(filename, \"w\")\n",
    "    file1.write(Text)\n",
    "    file1.close()\n",
    "    \n",
    "    \n",
    "    #plot graph\n",
    "    colors = {0: 'b', 1: 'r'}\n",
    "    ax = merged_plot_df.plot(x='Qdate', y='Mean_Rating', kind='bar',figsize=(20,10), color=[colors[i] for i in merged_plot_df['Anomaly']])\n",
    "    fig = ax.get_figure()\n",
    "    fig.savefig(BusinessID+'.png')\n",
    "\n",
    "    os.chdir(working_directory)\n",
    "\n",
    "    return \"success\""
   ]
  },
  {
   "cell_type": "code",
   "execution_count": 39,
   "metadata": {
    "collapsed": false
   },
   "outputs": [
    {
     "name": "stderr",
     "output_type": "stream",
     "text": [
      "/Users/Matt/anaconda2/anaconda/lib/python2.7/site-packages/ipykernel/__main__.py:5: SettingWithCopyWarning: \n",
      "A value is trying to be set on a copy of a slice from a DataFrame.\n",
      "Try using .loc[row_indexer,col_indexer] = value instead\n",
      "\n",
      "See the caveats in the documentation: http://pandas.pydata.org/pandas-docs/stable/indexing.html#indexing-view-versus-copy\n",
      "/Users/Matt/anaconda2/anaconda/lib/python2.7/site-packages/ipykernel/__main__.py:6: SettingWithCopyWarning: \n",
      "A value is trying to be set on a copy of a slice from a DataFrame.\n",
      "Try using .loc[row_indexer,col_indexer] = value instead\n",
      "\n",
      "See the caveats in the documentation: http://pandas.pydata.org/pandas-docs/stable/indexing.html#indexing-view-versus-copy\n",
      "/Users/Matt/anaconda2/anaconda/lib/python2.7/site-packages/ipykernel/__main__.py:7: SettingWithCopyWarning: \n",
      "A value is trying to be set on a copy of a slice from a DataFrame.\n",
      "Try using .loc[row_indexer,col_indexer] = value instead\n",
      "\n",
      "See the caveats in the documentation: http://pandas.pydata.org/pandas-docs/stable/indexing.html#indexing-view-versus-copy\n"
     ]
    },
    {
     "ename": "KeyboardInterrupt",
     "evalue": "",
     "output_type": "error",
     "traceback": [
      "\u001b[0;31m---------------------------------------------------------------------------\u001b[0m",
      "\u001b[0;31mKeyboardInterrupt\u001b[0m                         Traceback (most recent call last)",
      "\u001b[0;32m<ipython-input-40-2ad99df2ae38>\u001b[0m in \u001b[0;36m<module>\u001b[0;34m()\u001b[0m\n\u001b[1;32m      6\u001b[0m     \u001b[0;32mif\u001b[0m \u001b[0mlen\u001b[0m\u001b[0;34m(\u001b[0m\u001b[0manomaly\u001b[0m\u001b[0;34m)\u001b[0m\u001b[0;34m>\u001b[0m \u001b[0;36m1\u001b[0m \u001b[0;32mand\u001b[0m \u001b[0mnormal_data\u001b[0m \u001b[0;34m==\u001b[0m \u001b[0;36m1\u001b[0m\u001b[0;34m:\u001b[0m\u001b[0;34m\u001b[0m\u001b[0m\n\u001b[1;32m      7\u001b[0m         \u001b[0mperiod\u001b[0m \u001b[0;34m=\u001b[0m \u001b[0mchoosePeriods\u001b[0m\u001b[0;34m(\u001b[0m\u001b[0manomaly\u001b[0m\u001b[0;34m)\u001b[0m\u001b[0;34m\u001b[0m\u001b[0m\n\u001b[0;32m----> 8\u001b[0;31m         \u001b[0mbusiness_id\u001b[0m\u001b[0;34m,\u001b[0m \u001b[0mcommon\u001b[0m\u001b[0;34m=\u001b[0m\u001b[0mtextAnalysis_of_Anomaly\u001b[0m\u001b[0;34m(\u001b[0m\u001b[0mbusiness_df\u001b[0m\u001b[0;34m,\u001b[0m\u001b[0mbusiness_id\u001b[0m\u001b[0;34m,\u001b[0m\u001b[0mperiod\u001b[0m\u001b[0;34m)\u001b[0m\u001b[0;34m\u001b[0m\u001b[0m\n\u001b[0m\u001b[1;32m      9\u001b[0m         \u001b[0mmerged_plot_df\u001b[0m \u001b[0;34m=\u001b[0m \u001b[0mcreateDataForPlot\u001b[0m\u001b[0;34m(\u001b[0m\u001b[0manomaly\u001b[0m\u001b[0;34m,\u001b[0m \u001b[0mreview_counts\u001b[0m\u001b[0;34m)\u001b[0m\u001b[0;34m\u001b[0m\u001b[0m\n\u001b[1;32m     10\u001b[0m         \u001b[0mmakeFolder\u001b[0m\u001b[0;34m(\u001b[0m\u001b[0mcommon\u001b[0m\u001b[0;34m,\u001b[0m \u001b[0mmerged_plot_df\u001b[0m\u001b[0;34m,\u001b[0m \u001b[0mbusiness_id\u001b[0m\u001b[0;34m)\u001b[0m\u001b[0;34m\u001b[0m\u001b[0m\n",
      "\u001b[0;32m<ipython-input-19-84f965d87bb0>\u001b[0m in \u001b[0;36mtextAnalysis_of_Anomaly\u001b[0;34m(business_df, business_id, period)\u001b[0m\n\u001b[1;32m      9\u001b[0m         \u001b[0;32mif\u001b[0m \u001b[0mperiod\u001b[0m\u001b[0;34m[\u001b[0m\u001b[0mkey\u001b[0m\u001b[0;34m]\u001b[0m \u001b[0;34m==\u001b[0m \u001b[0;36m1\u001b[0m\u001b[0;34m:\u001b[0m\u001b[0;34m\u001b[0m\u001b[0m\n\u001b[1;32m     10\u001b[0m             \u001b[0mtext\u001b[0m\u001b[0;34m=\u001b[0m\u001b[0mbusiness_df\u001b[0m\u001b[0;34m[\u001b[0m\u001b[0;34m(\u001b[0m\u001b[0mbusiness_df\u001b[0m\u001b[0;34m[\u001b[0m\u001b[0;34m'Qdate'\u001b[0m\u001b[0;34m]\u001b[0m\u001b[0;34m==\u001b[0m\u001b[0mkey\u001b[0m\u001b[0;34m)\u001b[0m\u001b[0;34m]\u001b[0m\u001b[0;34m.\u001b[0m\u001b[0mtext\u001b[0m\u001b[0;34m\u001b[0m\u001b[0m\n\u001b[0;32m---> 11\u001b[0;31m             \u001b[0mtext\u001b[0m\u001b[0;34m=\u001b[0m\u001b[0mtext\u001b[0m\u001b[0;34m.\u001b[0m\u001b[0mto_string\u001b[0m\u001b[0;34m(\u001b[0m\u001b[0;34m)\u001b[0m\u001b[0;34m\u001b[0m\u001b[0m\n\u001b[0m\u001b[1;32m     12\u001b[0m             \u001b[0mtext\u001b[0m \u001b[0;34m=\u001b[0m \u001b[0mre\u001b[0m\u001b[0;34m.\u001b[0m\u001b[0msub\u001b[0m\u001b[0;34m(\u001b[0m\u001b[0;34m'\\W+'\u001b[0m\u001b[0;34m,\u001b[0m \u001b[0;34m' '\u001b[0m\u001b[0;34m,\u001b[0m\u001b[0mtext\u001b[0m\u001b[0;34m)\u001b[0m\u001b[0;34m\u001b[0m\u001b[0m\n\u001b[1;32m     13\u001b[0m             \u001b[0mdefault_stopwords\u001b[0m \u001b[0;34m=\u001b[0m \u001b[0mset\u001b[0m\u001b[0;34m(\u001b[0m\u001b[0mnltk\u001b[0m\u001b[0;34m.\u001b[0m\u001b[0mcorpus\u001b[0m\u001b[0;34m.\u001b[0m\u001b[0mstopwords\u001b[0m\u001b[0;34m.\u001b[0m\u001b[0mwords\u001b[0m\u001b[0;34m(\u001b[0m\u001b[0;34m'english'\u001b[0m\u001b[0;34m)\u001b[0m\u001b[0;34m)\u001b[0m\u001b[0;34m\u001b[0m\u001b[0m\n",
      "\u001b[0;32m/Users/Matt/anaconda2/anaconda/lib/python2.7/site-packages/pandas/core/series.pyc\u001b[0m in \u001b[0;36mto_string\u001b[0;34m(self, buf, na_rep, float_format, header, length, dtype, name, max_rows)\u001b[0m\n\u001b[1;32m    992\u001b[0m         the_repr = self._get_repr(float_format=float_format, na_rep=na_rep,\n\u001b[1;32m    993\u001b[0m                                   \u001b[0mheader\u001b[0m\u001b[0;34m=\u001b[0m\u001b[0mheader\u001b[0m\u001b[0;34m,\u001b[0m \u001b[0mlength\u001b[0m\u001b[0;34m=\u001b[0m\u001b[0mlength\u001b[0m\u001b[0;34m,\u001b[0m \u001b[0mdtype\u001b[0m\u001b[0;34m=\u001b[0m\u001b[0mdtype\u001b[0m\u001b[0;34m,\u001b[0m\u001b[0;34m\u001b[0m\u001b[0m\n\u001b[0;32m--> 994\u001b[0;31m                                   name=name, max_rows=max_rows)\n\u001b[0m\u001b[1;32m    995\u001b[0m \u001b[0;34m\u001b[0m\u001b[0m\n\u001b[1;32m    996\u001b[0m         \u001b[0;31m# catch contract violations\u001b[0m\u001b[0;34m\u001b[0m\u001b[0;34m\u001b[0m\u001b[0m\n",
      "\u001b[0;32m/Users/Matt/anaconda2/anaconda/lib/python2.7/site-packages/pandas/core/series.pyc\u001b[0m in \u001b[0;36m_get_repr\u001b[0;34m(self, name, header, length, dtype, na_rep, float_format, max_rows)\u001b[0m\n\u001b[1;32m   1022\u001b[0m                                         \u001b[0mfloat_format\u001b[0m\u001b[0;34m=\u001b[0m\u001b[0mfloat_format\u001b[0m\u001b[0;34m,\u001b[0m\u001b[0;34m\u001b[0m\u001b[0m\n\u001b[1;32m   1023\u001b[0m                                         max_rows=max_rows)\n\u001b[0;32m-> 1024\u001b[0;31m         \u001b[0mresult\u001b[0m \u001b[0;34m=\u001b[0m \u001b[0mformatter\u001b[0m\u001b[0;34m.\u001b[0m\u001b[0mto_string\u001b[0m\u001b[0;34m(\u001b[0m\u001b[0;34m)\u001b[0m\u001b[0;34m\u001b[0m\u001b[0m\n\u001b[0m\u001b[1;32m   1025\u001b[0m \u001b[0;34m\u001b[0m\u001b[0m\n\u001b[1;32m   1026\u001b[0m         \u001b[0;31m# TODO: following check prob. not neces.\u001b[0m\u001b[0;34m\u001b[0m\u001b[0;34m\u001b[0m\u001b[0m\n",
      "\u001b[0;32m/Users/Matt/anaconda2/anaconda/lib/python2.7/site-packages/pandas/core/format.pyc\u001b[0m in \u001b[0;36mto_string\u001b[0;34m(self)\u001b[0m\n\u001b[1;32m    222\u001b[0m             \u001b[0;32mreturn\u001b[0m \u001b[0;34m'Series([], '\u001b[0m \u001b[0;34m+\u001b[0m \u001b[0mfooter\u001b[0m \u001b[0;34m+\u001b[0m \u001b[0;34m')'\u001b[0m\u001b[0;34m\u001b[0m\u001b[0m\n\u001b[1;32m    223\u001b[0m \u001b[0;34m\u001b[0m\u001b[0m\n\u001b[0;32m--> 224\u001b[0;31m         \u001b[0mfmt_index\u001b[0m\u001b[0;34m,\u001b[0m \u001b[0mhave_header\u001b[0m \u001b[0;34m=\u001b[0m \u001b[0mself\u001b[0m\u001b[0;34m.\u001b[0m\u001b[0m_get_formatted_index\u001b[0m\u001b[0;34m(\u001b[0m\u001b[0;34m)\u001b[0m\u001b[0;34m\u001b[0m\u001b[0m\n\u001b[0m\u001b[1;32m    225\u001b[0m         \u001b[0mfmt_values\u001b[0m \u001b[0;34m=\u001b[0m \u001b[0mself\u001b[0m\u001b[0;34m.\u001b[0m\u001b[0m_get_formatted_values\u001b[0m\u001b[0;34m(\u001b[0m\u001b[0;34m)\u001b[0m\u001b[0;34m\u001b[0m\u001b[0m\n\u001b[1;32m    226\u001b[0m \u001b[0;34m\u001b[0m\u001b[0m\n",
      "\u001b[0;32m/Users/Matt/anaconda2/anaconda/lib/python2.7/site-packages/pandas/core/format.pyc\u001b[0m in \u001b[0;36m_get_formatted_index\u001b[0;34m(self)\u001b[0m\n\u001b[1;32m    207\u001b[0m         \u001b[0;32melse\u001b[0m\u001b[0;34m:\u001b[0m\u001b[0;34m\u001b[0m\u001b[0m\n\u001b[1;32m    208\u001b[0m             \u001b[0mhave_header\u001b[0m \u001b[0;34m=\u001b[0m \u001b[0mindex\u001b[0m\u001b[0;34m.\u001b[0m\u001b[0mname\u001b[0m \u001b[0;32mis\u001b[0m \u001b[0;32mnot\u001b[0m \u001b[0mNone\u001b[0m\u001b[0;34m\u001b[0m\u001b[0m\n\u001b[0;32m--> 209\u001b[0;31m             \u001b[0mfmt_index\u001b[0m \u001b[0;34m=\u001b[0m \u001b[0mindex\u001b[0m\u001b[0;34m.\u001b[0m\u001b[0mformat\u001b[0m\u001b[0;34m(\u001b[0m\u001b[0mname\u001b[0m\u001b[0;34m=\u001b[0m\u001b[0mTrue\u001b[0m\u001b[0;34m)\u001b[0m\u001b[0;34m\u001b[0m\u001b[0m\n\u001b[0m\u001b[1;32m    210\u001b[0m         \u001b[0;32mreturn\u001b[0m \u001b[0mfmt_index\u001b[0m\u001b[0;34m,\u001b[0m \u001b[0mhave_header\u001b[0m\u001b[0;34m\u001b[0m\u001b[0m\n\u001b[1;32m    211\u001b[0m \u001b[0;34m\u001b[0m\u001b[0m\n",
      "\u001b[0;32m/Users/Matt/anaconda2/anaconda/lib/python2.7/site-packages/pandas/core/index.pyc\u001b[0m in \u001b[0;36mformat\u001b[0;34m(self, name, formatter, **kwargs)\u001b[0m\n\u001b[1;32m   1305\u001b[0m             \u001b[0;32mreturn\u001b[0m \u001b[0mheader\u001b[0m \u001b[0;34m+\u001b[0m \u001b[0mlist\u001b[0m\u001b[0;34m(\u001b[0m\u001b[0mself\u001b[0m\u001b[0;34m.\u001b[0m\u001b[0mmap\u001b[0m\u001b[0;34m(\u001b[0m\u001b[0mformatter\u001b[0m\u001b[0;34m)\u001b[0m\u001b[0;34m)\u001b[0m\u001b[0;34m\u001b[0m\u001b[0m\n\u001b[1;32m   1306\u001b[0m \u001b[0;34m\u001b[0m\u001b[0m\n\u001b[0;32m-> 1307\u001b[0;31m         \u001b[0;32mreturn\u001b[0m \u001b[0mself\u001b[0m\u001b[0;34m.\u001b[0m\u001b[0m_format_with_header\u001b[0m\u001b[0;34m(\u001b[0m\u001b[0mheader\u001b[0m\u001b[0;34m,\u001b[0m \u001b[0;34m**\u001b[0m\u001b[0mkwargs\u001b[0m\u001b[0;34m)\u001b[0m\u001b[0;34m\u001b[0m\u001b[0m\n\u001b[0m\u001b[1;32m   1308\u001b[0m \u001b[0;34m\u001b[0m\u001b[0m\n\u001b[1;32m   1309\u001b[0m     \u001b[0;32mdef\u001b[0m \u001b[0m_format_with_header\u001b[0m\u001b[0;34m(\u001b[0m\u001b[0mself\u001b[0m\u001b[0;34m,\u001b[0m \u001b[0mheader\u001b[0m\u001b[0;34m,\u001b[0m \u001b[0mna_rep\u001b[0m\u001b[0;34m=\u001b[0m\u001b[0;34m'NaN'\u001b[0m\u001b[0;34m,\u001b[0m \u001b[0;34m**\u001b[0m\u001b[0mkwargs\u001b[0m\u001b[0;34m)\u001b[0m\u001b[0;34m:\u001b[0m\u001b[0;34m\u001b[0m\u001b[0m\n",
      "\u001b[0;32m/Users/Matt/anaconda2/anaconda/lib/python2.7/site-packages/pandas/core/index.pyc\u001b[0m in \u001b[0;36m_format_with_header\u001b[0;34m(self, header, na_rep, **kwargs)\u001b[0m\n\u001b[1;32m   1329\u001b[0m \u001b[0;34m\u001b[0m\u001b[0m\n\u001b[1;32m   1330\u001b[0m         \u001b[0;32melse\u001b[0m\u001b[0;34m:\u001b[0m\u001b[0;34m\u001b[0m\u001b[0m\n\u001b[0;32m-> 1331\u001b[0;31m             \u001b[0mresult\u001b[0m \u001b[0;34m=\u001b[0m \u001b[0m_trim_front\u001b[0m\u001b[0;34m(\u001b[0m\u001b[0mformat_array\u001b[0m\u001b[0;34m(\u001b[0m\u001b[0mvalues\u001b[0m\u001b[0;34m,\u001b[0m \u001b[0mNone\u001b[0m\u001b[0;34m,\u001b[0m \u001b[0mjustify\u001b[0m\u001b[0;34m=\u001b[0m\u001b[0;34m'left'\u001b[0m\u001b[0;34m)\u001b[0m\u001b[0;34m)\u001b[0m\u001b[0;34m\u001b[0m\u001b[0m\n\u001b[0m\u001b[1;32m   1332\u001b[0m         \u001b[0;32mreturn\u001b[0m \u001b[0mheader\u001b[0m \u001b[0;34m+\u001b[0m \u001b[0mresult\u001b[0m\u001b[0;34m\u001b[0m\u001b[0m\n\u001b[1;32m   1333\u001b[0m \u001b[0;34m\u001b[0m\u001b[0m\n",
      "\u001b[0;32m/Users/Matt/anaconda2/anaconda/lib/python2.7/site-packages/pandas/core/format.pyc\u001b[0m in \u001b[0;36mformat_array\u001b[0;34m(values, formatter, float_format, na_rep, digits, space, justify)\u001b[0m\n\u001b[1;32m   1943\u001b[0m                  digits=None, space=None, justify='right'):\n\u001b[1;32m   1944\u001b[0m \u001b[0;34m\u001b[0m\u001b[0m\n\u001b[0;32m-> 1945\u001b[0;31m     \u001b[0;32mif\u001b[0m \u001b[0mcom\u001b[0m\u001b[0;34m.\u001b[0m\u001b[0mis_categorical_dtype\u001b[0m\u001b[0;34m(\u001b[0m\u001b[0mvalues\u001b[0m\u001b[0;34m)\u001b[0m\u001b[0;34m:\u001b[0m\u001b[0;34m\u001b[0m\u001b[0m\n\u001b[0m\u001b[1;32m   1946\u001b[0m         \u001b[0mfmt_klass\u001b[0m \u001b[0;34m=\u001b[0m \u001b[0mCategoricalArrayFormatter\u001b[0m\u001b[0;34m\u001b[0m\u001b[0m\n\u001b[1;32m   1947\u001b[0m     \u001b[0;32melif\u001b[0m \u001b[0mcom\u001b[0m\u001b[0;34m.\u001b[0m\u001b[0mis_float_dtype\u001b[0m\u001b[0;34m(\u001b[0m\u001b[0mvalues\u001b[0m\u001b[0;34m.\u001b[0m\u001b[0mdtype\u001b[0m\u001b[0;34m)\u001b[0m\u001b[0;34m:\u001b[0m\u001b[0;34m\u001b[0m\u001b[0m\n",
      "\u001b[0;32m/Users/Matt/anaconda2/anaconda/lib/python2.7/site-packages/pandas/core/common.pyc\u001b[0m in \u001b[0;36mis_categorical_dtype\u001b[0;34m(arr_or_dtype)\u001b[0m\n\u001b[1;32m   2300\u001b[0m \u001b[0;34m\u001b[0m\u001b[0m\n\u001b[1;32m   2301\u001b[0m \u001b[0;32mdef\u001b[0m \u001b[0mis_categorical_dtype\u001b[0m\u001b[0;34m(\u001b[0m\u001b[0marr_or_dtype\u001b[0m\u001b[0;34m)\u001b[0m\u001b[0;34m:\u001b[0m\u001b[0;34m\u001b[0m\u001b[0m\n\u001b[0;32m-> 2302\u001b[0;31m     \u001b[0;32mreturn\u001b[0m \u001b[0mCategoricalDtype\u001b[0m\u001b[0;34m.\u001b[0m\u001b[0mis_dtype\u001b[0m\u001b[0;34m(\u001b[0m\u001b[0marr_or_dtype\u001b[0m\u001b[0;34m)\u001b[0m\u001b[0;34m\u001b[0m\u001b[0m\n\u001b[0m\u001b[1;32m   2303\u001b[0m \u001b[0;34m\u001b[0m\u001b[0m\n\u001b[1;32m   2304\u001b[0m \u001b[0;32mdef\u001b[0m \u001b[0mis_complex_dtype\u001b[0m\u001b[0;34m(\u001b[0m\u001b[0marr_or_dtype\u001b[0m\u001b[0;34m)\u001b[0m\u001b[0;34m:\u001b[0m\u001b[0;34m\u001b[0m\u001b[0m\n",
      "\u001b[0;32m/Users/Matt/anaconda2/anaconda/lib/python2.7/site-packages/pandas/core/dtypes.pyc\u001b[0m in \u001b[0;36mis_dtype\u001b[0;34m(cls, dtype)\u001b[0m\n\u001b[1;32m     73\u001b[0m         \u001b[0;32mif\u001b[0m \u001b[0misinstance\u001b[0m\u001b[0;34m(\u001b[0m\u001b[0mdtype\u001b[0m\u001b[0;34m,\u001b[0m \u001b[0mcls\u001b[0m\u001b[0;34m)\u001b[0m\u001b[0;34m:\u001b[0m\u001b[0;34m\u001b[0m\u001b[0m\n\u001b[1;32m     74\u001b[0m             \u001b[0;32mreturn\u001b[0m \u001b[0mTrue\u001b[0m\u001b[0;34m\u001b[0m\u001b[0m\n\u001b[0;32m---> 75\u001b[0;31m         \u001b[0;32melif\u001b[0m \u001b[0misinstance\u001b[0m\u001b[0;34m(\u001b[0m\u001b[0mdtype\u001b[0m\u001b[0;34m,\u001b[0m \u001b[0mnp\u001b[0m\u001b[0;34m.\u001b[0m\u001b[0mdtype\u001b[0m\u001b[0;34m)\u001b[0m\u001b[0;34m:\u001b[0m\u001b[0;34m\u001b[0m\u001b[0m\n\u001b[0m\u001b[1;32m     76\u001b[0m             \u001b[0;32mreturn\u001b[0m \u001b[0mFalse\u001b[0m\u001b[0;34m\u001b[0m\u001b[0m\n\u001b[1;32m     77\u001b[0m         \u001b[0;32mtry\u001b[0m\u001b[0;34m:\u001b[0m\u001b[0;34m\u001b[0m\u001b[0m\n",
      "\u001b[0;31mKeyboardInterrupt\u001b[0m: "
     ]
    },
    {
     "ename": "KeyboardInterrupt",
     "evalue": "",
     "output_type": "error",
     "traceback": [
      "Traceback (most recent call last):\n",
      "  File \"/Users/Matt/anaconda2/anaconda/lib/python2.7/site-packages/ipykernel/ipkernel.py\", line 175, in do_execute\n    shell.run_cell(code, store_history=store_history, silent=silent)\n",
      "  File \"/Users/Matt/anaconda2/anaconda/lib/python2.7/site-packages/IPython/core/interactiveshell.py\", line 2908, in run_cell\n    self.events.trigger('post_execute')\n",
      "  File \"/Users/Matt/anaconda2/anaconda/lib/python2.7/site-packages/IPython/core/events.py\", line 74, in trigger\n    func(*args, **kwargs)\n",
      "  File \"/Users/Matt/anaconda2/anaconda/lib/python2.7/site-packages/ipykernel/pylab/backend_inline.py\", line 113, in flush_figures\n    return show(True)\n",
      "  File \"/Users/Matt/anaconda2/anaconda/lib/python2.7/site-packages/ipykernel/pylab/backend_inline.py\", line 36, in show\n    display(figure_manager.canvas.figure)\n",
      "  File \"/Users/Matt/anaconda2/anaconda/lib/python2.7/site-packages/IPython/core/display.py\", line 159, in display\n    format_dict, md_dict = format(obj, include=include, exclude=exclude)\n",
      "  File \"/Users/Matt/anaconda2/anaconda/lib/python2.7/site-packages/IPython/core/formatters.py\", line 175, in format\n    data = formatter(obj)\n",
      "  File \"<decorator-gen-9>\", line 2, in __call__\n",
      "  File \"/Users/Matt/anaconda2/anaconda/lib/python2.7/site-packages/IPython/core/formatters.py\", line 220, in catch_format_error\n    r = method(self, *args, **kwargs)\n",
      "  File \"/Users/Matt/anaconda2/anaconda/lib/python2.7/site-packages/IPython/core/formatters.py\", line 337, in __call__\n    return printer(obj)\n",
      "  File \"/Users/Matt/anaconda2/anaconda/lib/python2.7/site-packages/IPython/core/pylabtools.py\", line 207, in <lambda>\n    png_formatter.for_type(Figure, lambda fig: print_figure(fig, 'png', **kwargs))\n",
      "  File \"/Users/Matt/anaconda2/anaconda/lib/python2.7/site-packages/IPython/core/pylabtools.py\", line 117, in print_figure\n    fig.canvas.print_figure(bytes_io, **kw)\n",
      "  File \"/Users/Matt/anaconda2/anaconda/lib/python2.7/site-packages/matplotlib/backend_bases.py\", line 2158, in print_figure\n    **kwargs)\n",
      "  File \"/Users/Matt/anaconda2/anaconda/lib/python2.7/site-packages/matplotlib/backends/backend_agg.py\", line 521, in print_png\n    FigureCanvasAgg.draw(self)\n",
      "  File \"/Users/Matt/anaconda2/anaconda/lib/python2.7/site-packages/matplotlib/backends/backend_agg.py\", line 469, in draw\n    self.figure.draw(self.renderer)\n",
      "  File \"/Users/Matt/anaconda2/anaconda/lib/python2.7/site-packages/matplotlib/artist.py\", line 59, in draw_wrapper\n    draw(artist, renderer, *args, **kwargs)\n",
      "  File \"/Users/Matt/anaconda2/anaconda/lib/python2.7/site-packages/matplotlib/figure.py\", line 1085, in draw\n    func(*args)\n",
      "  File \"/Users/Matt/anaconda2/anaconda/lib/python2.7/site-packages/matplotlib/artist.py\", line 59, in draw_wrapper\n    draw(artist, renderer, *args, **kwargs)\n",
      "  File \"/Users/Matt/anaconda2/anaconda/lib/python2.7/site-packages/matplotlib/axes/_base.py\", line 2110, in draw\n    a.draw(renderer)\n",
      "  File \"/Users/Matt/anaconda2/anaconda/lib/python2.7/site-packages/matplotlib/artist.py\", line 59, in draw_wrapper\n    draw(artist, renderer, *args, **kwargs)\n",
      "  File \"/Users/Matt/anaconda2/anaconda/lib/python2.7/site-packages/matplotlib/axis.py\", line 1116, in draw\n    renderer)\n",
      "  File \"/Users/Matt/anaconda2/anaconda/lib/python2.7/site-packages/matplotlib/axis.py\", line 1065, in _get_tick_bboxes\n    extent = tick.label1.get_window_extent(renderer)\n",
      "  File \"/Users/Matt/anaconda2/anaconda/lib/python2.7/site-packages/matplotlib/text.py\", line 798, in get_window_extent\n    bbox, info, descent = self._get_layout(self._renderer)\n",
      "  File \"/Users/Matt/anaconda2/anaconda/lib/python2.7/site-packages/matplotlib/text.py\", line 293, in _get_layout\n    key = self.get_prop_tup()\n",
      "  File \"/Users/Matt/anaconda2/anaconda/lib/python2.7/site-packages/matplotlib/text.py\", line 743, in get_prop_tup\n    hash(self._fontproperties),\n",
      "  File \"/Users/Matt/anaconda2/anaconda/lib/python2.7/site-packages/matplotlib/font_manager.py\", line 704, in __hash__\n    self.get_variant(),\n",
      "  File \"/Users/Matt/anaconda2/anaconda/lib/python2.7/site-packages/matplotlib/font_manager.py\", line 755, in get_variant\n    return self._variant\n",
      "KeyboardInterrupt\n"
     ]
    }
   ],
   "source": [
    "for business in result.business_id.unique():\n",
    "    common={}\n",
    "    business_id = business\n",
    "    review_counts, business_df = exploreBusiness(business)\n",
    "    anomaly, normal_data = Ttest_Anomaly_Detection(review_counts)\n",
    "    if len(anomaly)> 1 and normal_data == 1:\n",
    "        period = choosePeriods(anomaly)\n",
    "        business_id, common=textAnalysis_of_Anomaly(business_df,business_id,period)\n",
    "        merged_plot_df = createDataForPlot(anomaly, review_counts)\n",
    "        makeFolder(common, merged_plot_df, business_id)"
   ]
  },
  {
   "cell_type": "code",
   "execution_count": null,
   "metadata": {
    "collapsed": true
   },
   "outputs": [],
   "source": []
  }
 ],
 "metadata": {
  "kernelspec": {
   "display_name": "Python 2",
   "language": "python",
   "name": "python2"
  },
  "language_info": {
   "codemirror_mode": {
    "name": "ipython",
    "version": 2
   },
   "file_extension": ".py",
   "mimetype": "text/x-python",
   "name": "python",
   "nbconvert_exporter": "python",
   "pygments_lexer": "ipython2",
   "version": "2.7.12"
  }
 },
 "nbformat": 4,
 "nbformat_minor": 0
}
