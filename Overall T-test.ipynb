{
 "cells": [
  {
   "cell_type": "code",
   "execution_count": 296,
   "metadata": {
    "collapsed": true
   },
   "outputs": [],
   "source": [
    "from __future__ import print_function\n",
    "from collections import Counter\n",
    "from collections import OrderedDict\n",
    "import numpy as np\n",
    "import numpy\n",
    "import pandas as pd\n",
    "from scipy import optimize\n",
    "import matplotlib.mlab as mlab\n",
    "import matplotlib.pyplot as plt\n",
    "%matplotlib inline\n",
    "import pickle\n",
    "import calendar\n",
    "import datetime\n",
    "import re\n",
    "from math import log\n",
    "from scipy import stats\n",
    "import nltk\n",
    "from nltk.corpus import stopwords\n",
    "from sklearn.feature_extraction.text import TfidfVectorizer\n",
    "from array import array\n",
    "from sklearn import preprocessing\n",
    "from scipy.stats import boxcox\n",
    "from scipy.stats import ttest_1samp, wilcoxon, ttest_ind, mannwhitneyu"
   ]
  },
  {
   "cell_type": "code",
   "execution_count": 252,
   "metadata": {
    "collapsed": true
   },
   "outputs": [],
   "source": [
    "#load the pickle object for quick access\n",
    "result = pd.read_pickle(\"/Users/Matt/Documents/Stevens/BIA660 Web Analytics/yelp_dataset_challenge_academic_dataset/Data/500_Dataset\")"
   ]
  },
  {
   "cell_type": "code",
   "execution_count": 256,
   "metadata": {
    "collapsed": false
   },
   "outputs": [],
   "source": [
    "#result.head()"
   ]
  },
  {
   "cell_type": "code",
   "execution_count": 333,
   "metadata": {
    "collapsed": true
   },
   "outputs": [],
   "source": [
    "def exploreBusiness(businessID):\n",
    "    #exploratory Analysis for business ID mpDxBBGywUE6GRRKja3sBA\n",
    "    business1 = result[result[\"business_id\"]==businessID]\n",
    "    #change date into datetime\n",
    "    business1['date'] = pd.to_datetime(business1['date'])\n",
    "    business1['Year-Month'] = business1.date.map(lambda x: x.strftime('%Y-%m'))\n",
    "    business1['Qdate'] = [date - pd.tseries.offsets.DateOffset(days=1) + pd.tseries.offsets.QuarterEnd() for date in business1.date]\n",
    "    #review_counts = business1.groupby('Year-Month')['review_id'].count()\n",
    "    review_counts = business1.groupby('Qdate')['stars_x'].mean()\n",
    "    #review_counts = review_counts.apply(lambda x: (x - x.mean()) / (x.max() - x.min()))\n",
    "    #review_counts = review_counts[review_counts.apply(lambda x: np.abs(x - x.mean()) / x.std() < 3).all(axis=1)]\n",
    "    #x = df.values #returns a numpy array\n",
    "    #min_max_scaler = preprocessing.MinMaxScaler()\n",
    "    #x_scaled = min_max_scaler.fit_transform(review_counts)\n",
    "    #review_counts['review_id'] = x_scaled\n",
    "    ax = review_counts.plot(kind='bar', figsize=(20,10))\n",
    "    return review_counts, business1"
   ]
  },
  {
   "cell_type": "code",
   "execution_count": 377,
   "metadata": {
    "collapsed": false
   },
   "outputs": [],
   "source": [
    "#plt.hist(review_counts)\n",
    "#stats.shapiro(review_counts)[1]\n",
    "#anomaly, normal_data=Ttest_Anomaly_Detection(review_counts)\n",
    "#anomaly"
   ]
  },
  {
   "cell_type": "code",
   "execution_count": 334,
   "metadata": {
    "collapsed": false
   },
   "outputs": [
    {
     "name": "stderr",
     "output_type": "stream",
     "text": [
      "/Users/Matt/anaconda2/anaconda/lib/python2.7/site-packages/ipykernel/__main__.py:5: SettingWithCopyWarning: \n",
      "A value is trying to be set on a copy of a slice from a DataFrame.\n",
      "Try using .loc[row_indexer,col_indexer] = value instead\n",
      "\n",
      "See the caveats in the documentation: http://pandas.pydata.org/pandas-docs/stable/indexing.html#indexing-view-versus-copy\n",
      "/Users/Matt/anaconda2/anaconda/lib/python2.7/site-packages/ipykernel/__main__.py:6: SettingWithCopyWarning: \n",
      "A value is trying to be set on a copy of a slice from a DataFrame.\n",
      "Try using .loc[row_indexer,col_indexer] = value instead\n",
      "\n",
      "See the caveats in the documentation: http://pandas.pydata.org/pandas-docs/stable/indexing.html#indexing-view-versus-copy\n",
      "/Users/Matt/anaconda2/anaconda/lib/python2.7/site-packages/ipykernel/__main__.py:7: SettingWithCopyWarning: \n",
      "A value is trying to be set on a copy of a slice from a DataFrame.\n",
      "Try using .loc[row_indexer,col_indexer] = value instead\n",
      "\n",
      "See the caveats in the documentation: http://pandas.pydata.org/pandas-docs/stable/indexing.html#indexing-view-versus-copy\n"
     ]
    },
    {
     "data": {
      "image/png": "[encoded data removed]",
      "text/plain": [
       "<matplotlib.figure.Figure at 0x1847daa50>"
      ]
     },
     "metadata": {},
     "output_type": "display_data"
    }
   ],
   "source": [
    "#review_counts, business_df = exploreBusiness('3Q0QQPnHcJuX1DLCL9G9Cg')\n",
    "review_counts, business_df = exploreBusiness('Pgp3gbOQaJIdyjqC9AOz6g')\n"
   ]
  },
  {
   "cell_type": "code",
   "execution_count": 338,
   "metadata": {
    "collapsed": false
   },
   "outputs": [],
   "source": [
    "# runs a 1 sample t test to compare a new month with the previous months\n",
    "# https://stats.stackexchange.com/questions/198825/compare-previous-month-to-all-other-previous-months-performance\n",
    "# http://iaingallagher.tumblr.com/post/50980987285/t-tests-in-python\n",
    "#if stats.shapiro(review_counts)[1] >0.05:\n",
    "#    normal_data=1\n",
    "def Ttest_Anomaly_Detection(review_counts):\n",
    "    anomaly = OrderedDict() #initialize dict\n",
    "    d = OrderedDict()\n",
    "    normal_data=0\n",
    "    if stats.shapiro(review_counts)[1] >0.05:\n",
    "        normal_data=1\n",
    "    #one_sample_data = review_counts.values\n",
    "    for ind, value in review_counts.iteritems():\n",
    "        d[ind] = value\n",
    "        #anomaly[ind]=-1\n",
    "        if len(d) >= 31: #need 30 samples because the data is non-normal\n",
    "            #t-test to compare the next month/year sample to the mean of all the prior ones\n",
    "            one_sample_data = d.values()[0:(len(d)-1)]\n",
    "            one_sample = stats.ttest_1samp(one_sample_data,value) #compares the entire period\n",
    "            #one_sample = stats.wilcoxon(one_sample_data-value)\n",
    "            #print(ind,value, one_sample_data)\n",
    "            #print(len(d))\n",
    "            if one_sample.pvalue < 0.01: #null hypothesis: new sample = prior mean\n",
    "                anomaly[ind]=1  #there is a statistically signifant difference, where the new sample != prior mean   \n",
    "    return anomaly, normal_data"
   ]
  },
  {
   "cell_type": "code",
   "execution_count": 260,
   "metadata": {
    "collapsed": true
   },
   "outputs": [],
   "source": [
    "#locate the period where there is a change in the anomaly[ind] values\n",
    "#returns a dict where an anomaly is coded as a 1\n",
    "def choosePeriods(anomaly):\n",
    "    period={}\n",
    "    keylist = anomaly.keys()\n",
    "    keylist.sort()\n",
    "    for key in keylist:\n",
    "        if anomaly[key] == 1:\n",
    "            period[key]=1\n",
    "        else:\n",
    "            period[key]=0\n",
    "    return period   "
   ]
  },
  {
   "cell_type": "code",
   "execution_count": 347,
   "metadata": {
    "collapsed": false
   },
   "outputs": [],
   "source": [
    "#show a summary of the top words of ALL the anomalies for a given business\n",
    "def textAnalysis_of_Anomaly(business_df, business_id, period):\n",
    "    common={}\n",
    "    final=''\n",
    "    keylist = period.keys()\n",
    "    keylist.sort()\n",
    "    words_test=[]\n",
    "    for key in keylist:\n",
    "        if period[key] == 1:\n",
    "            text=business_df[(business_df['Qdate']==key)].text\n",
    "            text=text.to_string()\n",
    "            text = re.sub('\\W+', ' ',text)\n",
    "            default_stopwords = set(nltk.corpus.stopwords.words('english'))\n",
    "            custom_stopwords = set((u'–', '...'))\n",
    "            all_stopwords = default_stopwords | custom_stopwords\n",
    "            words = nltk.word_tokenize(text)\n",
    "\n",
    "            words = [word for word in words if len(word) > 2] #remove words that are only 1 character\n",
    "            # Remove numbers\n",
    "            words = [word for word in words if not word.isnumeric()]\n",
    "\n",
    "            # Lowercase all words (default_stopwords are lowercase too)\n",
    "            words = [word.lower() for word in words]\n",
    "\n",
    "            #remove words that are stopwords\n",
    "            words = [word for word in words if word not in all_stopwords]\n",
    "            words_test += words\n",
    "\n",
    "    #print(words_test)\n",
    "    # Calculate frequency distribution\n",
    "    fdist = nltk.FreqDist(words_test)\n",
    "\n",
    "    for word, frequency in fdist.most_common(10):\n",
    "        final+=str(word+' ')\n",
    "    common[business_id] = final\n",
    "\n",
    "    return common"
   ]
  },
  {
   "cell_type": "code",
   "execution_count": 345,
   "metadata": {
    "collapsed": true
   },
   "outputs": [],
   "source": [
    "#outputs the most common words for each anomaly found for a business\n",
    "def getCommonWordsForEachAnomaly(business_df, business_id, period):\n",
    "    common={}\n",
    "    keylist = period.keys()\n",
    "    keylist.sort()\n",
    "    for key in keylist:\n",
    "        final=''\n",
    "        if period[key] == 1:\n",
    "            text=business_df[(business_df['Qdate']==key)].text\n",
    "            text=text.to_string()\n",
    "            text = re.sub('\\W+', ' ',text)\n",
    "            default_stopwords = set(nltk.corpus.stopwords.words('english'))\n",
    "            custom_stopwords = set((u'–', '...'))\n",
    "            all_stopwords = default_stopwords | custom_stopwords\n",
    "            words = nltk.word_tokenize(text)\n",
    "            \n",
    "            words = [word for word in words if len(word) > 2] #remove words that are only 1 character\n",
    "            # Remove numbers\n",
    "            words = [word for word in words if not word.isnumeric()]\n",
    "\n",
    "            # Lowercase all words (default_stopwords are lowercase too)\n",
    "            words = [word.lower() for word in words]\n",
    "\n",
    "            #remove words that are stopwords\n",
    "            words = [word for word in words if word not in all_stopwords]\n",
    "\n",
    "            # Calculate frequency distribution\n",
    "            fdist = nltk.FreqDist(words)\n",
    "            \n",
    "            for word, frequency in fdist.most_common(5):\n",
    "                final+=str(word+' ')\n",
    "        common[key] = final\n",
    "    \n",
    "    return business_id, common"
   ]
  },
  {
   "cell_type": "code",
   "execution_count": 268,
   "metadata": {
    "collapsed": false
   },
   "outputs": [],
   "source": [
    "anomaly = Ttest_Anomaly_Detetion(review_counts)\n",
    "if len(anomaly)>0:\n",
    "    period = choosePeriods(anomaly)\n",
    "    getCommonWordsForEachAnomaly(business_df,'Pgp3gbOQaJIdyjqC9AOz6g',period)"
   ]
  },
  {
   "cell_type": "code",
   "execution_count": 287,
   "metadata": {
    "collapsed": false
   },
   "outputs": [],
   "source": [
    "#results[(results.business_id=='3Q0QQPnHcJuX1DLCL9G9Cg') && (results.date==period[key])]\n",
    "#text=business_df[(business_df.business_id=='3Q0QQPnHcJuX1DLCL9G9Cg') & (business_df['Year-Month']=='2010-09')].text\n"
   ]
  },
  {
   "cell_type": "code",
   "execution_count": 349,
   "metadata": {
    "collapsed": false
   },
   "outputs": [
    {
     "name": "stderr",
     "output_type": "stream",
     "text": [
      "/Users/Matt/anaconda2/anaconda/lib/python2.7/site-packages/ipykernel/__main__.py:5: SettingWithCopyWarning: \n",
      "A value is trying to be set on a copy of a slice from a DataFrame.\n",
      "Try using .loc[row_indexer,col_indexer] = value instead\n",
      "\n",
      "See the caveats in the documentation: http://pandas.pydata.org/pandas-docs/stable/indexing.html#indexing-view-versus-copy\n",
      "/Users/Matt/anaconda2/anaconda/lib/python2.7/site-packages/ipykernel/__main__.py:6: SettingWithCopyWarning: \n",
      "A value is trying to be set on a copy of a slice from a DataFrame.\n",
      "Try using .loc[row_indexer,col_indexer] = value instead\n",
      "\n",
      "See the caveats in the documentation: http://pandas.pydata.org/pandas-docs/stable/indexing.html#indexing-view-versus-copy\n"
     ]
    },
    {
     "name": "stdout",
     "output_type": "stream",
     "text": [
      "{u'3Q0QQPnHcJuX1DLCL9G9Cg': 'airport charlotte nice always clean layover great one time airports '}\n",
      "{u'qMkIbQFrROSnPaQ7at85-w': 'place beautiful desert great botanical really first garden gardens years '}\n",
      "{u'AkOruz5CrCxUmXe1p_WoRg': 'place food great love ramen good cherry favorite japanese one '}\n",
      "{u'rDvz5jX65gpfONFu7er9Tw': 'food best tacos great mexican place good street burritos delicious '}\n",
      "{u'wZwZcte4lcbu51NOzCjWbQ': 'food place great view service went atmosphere fun dinner good '}\n",
      "{u'FV16IeXJp2W6pnghTz2FAw': 'pho place food service best good vegas always long great '}\n",
      "{u'Yq8LiVymGA7vBpGCQuDfRw': 'pho place service vegas food best good one time great '}\n",
      "{u'eoDEx1GGQA0CBDhy2ql_Kw': 'place food breakfast service great excellent good like old school '}\n",
      "{u'w4SGmsvFzqyAIs7CSQ_J-g': 'donuts place vegan donut great best love doughnuts shop amazing '}\n",
      "{u'bqYrEwL5xjqv0u8XAij--Q': 'tea place boba station service good love food come milk '}\n",
      "{u'uYVdp5LfCbX8S8ytnhdk-g': 'place luv custard love vegas good great years best frozen '}\n",
      "{u'KJnVuzpveyDrHARVNZaYVg': 'hotel hooters place stayed room good stay casino worst one '}\n",
      "{u'n5eQnMnVVt3FfrFENYoU0g': 'place cabo fish love time food great favorite taco good '}\n",
      "{u'K8pM6qQdYu5h6buRE1-_sw': 'food chicken place great love first service waffles time good '}\n",
      "{u'FV0BkoGOd3Yu_eJnXY15ZA': 'salad cowboy food ciao great place chopped came went restaurant '}\n",
      "{u'SMpL3z4FLF07bRA6-y22JQ': 'food thai place malee great service good best time one '}\n",
      "{u'dcd3C1gWv-vVdQ9XYV8Ubw': 'pizza good grimaldi best love really great place crust thin '}\n",
      "{u'z3yFuLVrmH-3RJruPEMYKw': 'italian place food great deli amazing best love defalco good '}\n",
      "{u'c1yGkETheht_1vjda7G5sA': 'place food vegan love good green great vegetarian amazing really '}\n",
      "{u'6oRAC4uyJCsJl1X0WZpVSA': 'food place eastern middle best years haji great baba amazing '}\n",
      "{u'2ceeU8e3nZjaPfGmLwh4kg': 'place love good great food atmosphere casey service moore oysters '}\n",
      "{u'jf67Z1pnwElRSXllpQHiJg': 'airport vegas mccarran las love easy clean like one slot '}\n",
      "{u'foDMwBRGJvKw791v0AT7OA': 'place vegas hugo old cellar great fantastic food school dinner '}\n",
      "{u'OUpcKYGbVYgSS1Oo7aQ56Q': 'hotel stayed nugget golden great vegas stay room nice place '}\n",
      "{u'4GQhbPvGU5r23YdVm8EmkQ': 'food restaurant italian great place ferraro went service excellent amazing '}\n",
      "{u'65EJzWvIUnE1YwpfW6Jl1Q': 'hotel stayed stay harrah room vegas place first check worst '}\n",
      "{u'WT-v-DgQvW38DewVyTLdTA': 'circus hotel stayed room stay place vegas great rooms one '}\n",
      "{u'keV-NU5jaemf9L_7HDX-OA': 'place food great service breeze bahama good hour love happy '}\n",
      "{u'1bJjWGYip-V2PGj4VIwbiQ': 'food place great italian vegas good restaurant love amazing went '}\n",
      "{u'u9wjRhUjySkHPa_hG3kFOg': 'hotel wynn vegas stayed beautiful place stay las nice best '}\n",
      "{u'ZgWUM594Yqk52IvBgoIrdA': 'place store like love fun world great kids floors chocolate '}\n",
      "{u'Ensu96ecI0OReupNS2x7ig': 'steak place good service dinner vegas amazing best steakhouse great '}\n",
      "{u'Z0kyK8wCBNGkkUT9UrMWcg': 'steak place service great best food del love good vegas '}\n",
      "{u'APe_0I6DqbNQonSlEkMSEQ': 'prime rib lawry place best went food vegas great dinner '}\n",
      "{u'ASOiJ8MmbBTgK2D1_MQrqg': 'food view great restaurant service best dinner place went experience '}\n",
      "{u'gu5Yj92bnXnxNyMdxO14VA': 'food mexican place good service casa best juan great love '}\n",
      "{u'cN6aBxe2mQvrQlzk26LyRQ': 'durant place good old love time food great phoenix years '}\n",
      "{u'1NZLxU5WvB5roPFzneAlLw': 'food place great best barrio mexican first cafe time guacamole '}\n",
      "{u'H6CJflwclNpttYrtsBMsVg': 'emeril food great service good dinner happy hour lunch place '}\n",
      "{u'lddbHJKgFvnVWabK-M8TPA': 'orleans hotel stayed place casino stay vegas great time love '}\n",
      "{u'tbTc7094zwIYAtU-0NkU4w': 'palms stayed hotel place stay great room vegas time casino '}\n",
      "{u'-7yF42k0CcJhtPw51oaOqQ': 'hotel bellagio stayed vegas stay one great place beautiful love '}\n",
      "{u'q_DrPmiLrHEpR_SQvQXELQ': 'nobu food service great best sushi place first experience say '}\n",
      "{u'm7icEOgYpM3B8TlbYsKPzg': 'show cirque amazing fun great really shows time sexy soleil '}\n",
      "{u'34uJtlPnKicSaX1V8_tu1A': 'hotel venetian stayed stay beautiful vegas place love rooms room '}\n",
      "{u'NGJDjdiDJHmN2xxU7KauuA': 'hotel flamingo stayed room stay vegas place first great rooms '}\n",
      "{u'TWD8c5-P7w9v-2KX_GSNZQ': 'hotel mandalay bay stayed stay vegas great room nice place '}\n",
      "{u'KjymOs12Mpy0Kd54b7T9MA': 'food great olives dinner service good place restaurant vegas lunch '}\n",
      "{u'fkacCsAiwXYQzdlaQZm0Gg': 'outlet outlets mall love stores great vegas place parking shopping '}\n",
      "{u'_VN5hYv1VgNIBgwxTQZ_1Q': 'food place came good lucky great breakfast hard vegas went '}\n",
      "{u'f3EcPjqKftEznBSs2oQVRg': 'went club pure night place great door party staff 21st '}\n",
      "{u'ES-j5yNTgmgbL4He0h6otA': 'food place good german great fun beer love time vegas '}\n",
      "{u'OFBJtqWGSx6n6CchtVmoRw': 'burger place delux great burgers love food sushi fries good '}\n",
      "{u'PqTX5j9yfsPbd1qQCA1EwA': 'tao club place vegas came went night nightclub great one '}\n",
      "{u'5rDosv0aIBhLg81IMSnlyg': 'great service vegas steakhouse steak food best place restaurant dinner '}\n",
      "{u'kV768Ru9q3JKNNaKuKAKCw': 'show cirque amazing seen soleil best first vegas one shows '}\n",
      "{u'mPDE4dMqAyLZNCR-tEYQ5w': 'show cirque first seen soleil amazing shows great saw vegas '}\n",
      "{u'ggoYlZeQhATwb_yGSntfdw': 'food service great amazing came seafood lunch place good excellent '}\n",
      "{u'-5RN56jH78MV2oquLV_G8g': 'picasso food restaurant amazing good service great place experience best '}\n",
      "{u'jOuERtVf7QePnK9ZcdH5XA': 'food place great good grand service lux vegas breakfast cheesecake '}\n",
      "{u'M2SjLXsuAy5RNKwxaA5E1g': 'great food went time place first atmosphere good service came '}\n",
      "{u'DJlb6DLzT1yK5ipnL2I1dA': 'club tryst place night vegas went great time came beautiful '}\n",
      "{u'V1nEpIRmEa1768oj_tuxeQ': 'place pizza great food cibo best good night really little '}\n",
      "{u'DzL4cUt5AVYRzzT7DHOgxg': 'hotel plaza stay worst stayed room rooms nice great booked '}\n",
      "{u'9Ywv51iCL_QSIGzFA6vqiQ': 'place pinball fun love great games vegas old awesome time '}\n",
      "{u'YNQgak-ZLtYJQxlDwN-qIg': 'buffet food wynn vegas best great buffets place good went '}\n",
      "{u'gRGR8p5pCFT9Pho4VXcMDg': 'show group man blue see vegas great seen fun time '}\n",
      "{u'Lq6CDJ2yHmMs4N7jscQhHQ': 'sushi great place food happy hour service love time amazing '}\n",
      "{u'-2n-OHbbwIv3SY8RP9bgTQ': 'food great italian service maggiano always restaurant amazing place came '}\n",
      "{u'3oZcTGb_oDHGwZFiP-7kxQ': 'great food chelsea place kitchen love went service time first '}\n",
      "{u'5FLRsYrT6w2VSDvQDhphXg': 'food great fiamma came service restaurant place good vegas dinner '}\n",
      "{u'N50HceZf1595UtU867u4uQ': 'fleur great place food went las good vegas fan night '}\n",
      "{u'NrmjX7lp8LfqdJSd83P9-Q': 'club bank vegas night went place bellagio hip good got '}\n",
      "{u'GJp4zTQPPsCEkUitopGfAQ': 'food service dinner place stack great good came best restaurant '}\n",
      "{u'NBFu9Ia-KzpsByWtoB6JhA': 'aquarium place small enjoyed great expensive fun visited person better '}\n",
      "{u'1yx2zLskVTe5WQdYjL2Apw': 'place great breakfast food service good vegas server time best '}\n",
      "{u'c12WDNrP2wyQgbnEYDdxCw': 'buffet food mgm breakfast great place went time good vegas '}\n",
      "{u'7SO_rX1F6rQEl-5s3wZxgQ': 'pizza place great love lgo food favorite good one get '}\n",
      "{u'uqisw8IXD5ZutU4MT2MQVw': 'food place hour happy amazing social service sushi came good '}\n",
      "{u'UpMR63WZgIn8VDKnYpDwXA': 'food service place bellagio breakfast came cafe good love vegas '}\n",
      "{u'tI3J5jomrBs--n7r92186g': 'dim sum food good chinese best place service vegas wait '}\n",
      "{u'tn5SXZvWiT-uVsjXLGSrww': 'buffet seafood food good place best vegas love crab buffets '}\n",
      "{u'5VMajxduxfLPSyQkVFKESg': 'bbq place love great joe food good best pork first '}\n",
      "{u'KpZLxHrp2PIP8tLBsPLiww': 'hotel stayed stay signature vegas great mgm place room nice '}\n",
      "{u'Gn7bMxhZgY0bivsthvJWJQ': 'buffet food good lunch great went place one breakfast vegas '}\n",
      "{u'_zrSQdISpB_qry9tb098rw': 'rao food service good great last dinner night place vegas '}\n",
      "{u'dVAurLD1bBIi9IvuMFoL5g': 'food place great best n9ne steak vegas steakhouse service amazing '}\n",
      "{u'83DsSlg-swjLzmZnUzq2UA': 'pizza place great best love good one settebello food service '}\n",
      "{u'XDYnLQC8ViZejuCDp4eCwg': 'steak food great place vegas service dinner fat steakhouse duck '}\n",
      "{u'WNy1uzcmm_UHmTyR--o5IA': 'place food pasty great love cornish good one pasties time '}\n",
      "{u'4uDW2Rp9eAPL5BUd5C5-bA': 'happy hour kona great food place love grill service good '}\n",
      "{u'y4Qyf4PPSOHdQFTr3Zi_KA': 'red casino rock hotel great place stayed stay love resort '}\n",
      "{u'50nln4YPr0QDo_v1uBmHfg': 'bakery place bouchon best love good macaroons ever venetian macarons '}\n",
      "{u'k-D2NUfaUbuQzPaMXniXcA': 'place food good beer service pub selection great went beers '}\n",
      "{u'LJxNzBCR383zSpe0jdU04Q': 'place food capo great love went fun amazing restaurant vegas '}\n",
      "{u'rNahhyqDlouyDMHh57p3ug': 'service food restaurant went great dinner mario amazing octopus stars '}\n",
      "{u'z3SyT8blMIhsZNvKJgKcRA': 'hotel stayed caesars stay vegas palace room place great caesar '}\n",
      "{u'-4A5xmN21zi_TXnUESauUQ': 'place love good breakfast food california really amazing great club '}\n",
      "{u'l2lpBXx8jKl87J2szyJRuQ': 'mall great stores show fashion vegas one strip shopping nice '}\n",
      "{u'sBAueq0jUmlIH6vdgyP2aQ': 'great breakfast service food place egg love server works always '}\n",
      "{u'Pz7SWZQhxL6ZbhL9jE2NTA': 'view great food dinner mix amazing place service vegas restaurant '}\n",
      "{u'05tazaFQt1EnQ_Gk_1AFyg': 'food great every time fish review place service came get '}\n",
      "{u'uJYw4p59AKh8c8h5yWMdOw': 'hotel stayed planet hollywood stay room great place location vegas '}\n",
      "{u'YrIfgzLj0DPStJ1ESAS_Qg': 'place food great love good shrimp hot service juicy seafood '}\n",
      "{u'pQSkGB3HIunzNn_vIRWUNQ': 'place great bagel food best love good service vegas first '}\n",
      "{u'IVc23uY-36WUNYoIbz42Fg': 'great place food switch went first love service brunch time '}\n",
      "{u'3w5gd4EuSc75UKYMJiNUPA': 'restaurant food great place amazing went aureole dinner service menu '}\n",
      "{u'QcTj9AgGJA0ifMHCCPNblg': 'place food great service fun went experience best love good '}\n",
      "{u'yJDSMugu_Pom3pJE8MRrJA': 'food place great service time drinks good went first diablo '}\n",
      "{u'_tS0YfyPDxOXxrN4Kl2_HQ': 'place food trevi went good great service location times dinner '}\n",
      "{u'_xmJB767rROtAy6XepMlkQ': 'buffet food one got place treasure went free island two '}\n",
      "{u'bgTB6MgdVQssXhkNJ7qIfw': 'food scottsdale restaurant place happy sushi hour amazing good roka '}\n",
      "{u'O-Xa9GCFWI65YiBD5Jw_hA': 'great food place mastro best service good steak went amazing '}\n",
      "{u'QozXMHqNzkVutP-FhcP30w': 'food miss one place hit great service lunch restaurant terrible '}\n",
      "{u'naLrErBuJr9IWd6_rv6-XQ': 'vegas steakhouse steak cut food night best everything experience place '}\n",
      "{u'YQvg0JCGRFUkb6reMMf3Iw': 'place pizza food bocca really great nice time came atmosphere '}\n",
      "{u'j_pce4pG9krrBeYwUni8Pg': 'great food place yard house love good service always night '}\n",
      "{u'NsnZ5GhagXBKrCOelxVQxw': 'food sushi service place vegas great best came awesome samba '}\n",
      "{u'Jm11YjDPn9l74pbodGQ8hQ': 'hotel place stay room stayed nice great palms time strip '}\n",
      "{u'xNcqwYAUeVOhe3KNC4Xjaw': 'raku food place vegas japanese amazing best great restaurant one '}\n",
      "{u'Bc4DoKgrKCtCuN-0O5He3A': 'ice cream place best try really republic good like favorite '}\n",
      "{u'3fV9sL5LklD9ZSeONKmjkw': 'burger burgers good blt lunch night ate fries place wings '}\n",
      "{u'wfofFm3AqtyK_ujNQ893mQ': 'restaurant best joel service vegas robuchon food great absolutely place '}\n",
      "{u'KKucN3P6aH84MCfPr56a8g': 'place pied best come cochon night restaurant experience montreal one '}\n",
      "{u'YKOvlBNkF4KpUP9q7x862w': 'food mission great place best restaurant service scottsdale atmosphere good '}\n",
      "{u'6imLt53br7SJ3av07jjH7w': 'hannys food good place service interesting star experience beautiful four '}\n",
      "{u'uRnyJunCC44SpdPtt1x7xg': 'tiki place bar love frankie dark vegas best room smokey '}\n",
      "{u'e8FMAuTswDueAlLsNyLhcA': 'breakfast place food love friendly hash last excellent town scottsdale '}\n",
      "{u'kwEQ3uY9Jwmknb5kNg3UlA': 'grand lux cafe great love breakfast food always service palazzo '}\n",
      "{u'oFvqnJNxHguP3iBj-jZUGA': 'vegas fountains show see must bellagio yea best fountain one '}\n",
      "{u'z67yrh03lRSANrpPsRcTfw': 'pizza crust service good food great place first awesome vegas '}\n",
      "{u'BQjGE1Z3nk253XzIZqt8Gg': 'place chocolate jean bellagio vegas love great crepes gelato delicious '}\n",
      "{u'kEC7OlpPnZRxCUyVwq7hig': 'hotel stayed hard rock stay vegas place room hrh casino '}\n"
     ]
    },
    {
     "name": "stderr",
     "output_type": "stream",
     "text": [
      "/Users/Matt/anaconda2/anaconda/lib/python2.7/site-packages/ipykernel/__main__.py:7: SettingWithCopyWarning: \n",
      "A value is trying to be set on a copy of a slice from a DataFrame.\n",
      "Try using .loc[row_indexer,col_indexer] = value instead\n",
      "\n",
      "See the caveats in the documentation: http://pandas.pydata.org/pandas-docs/stable/indexing.html#indexing-view-versus-copy\n"
     ]
    },
    {
     "data": {
      "image/png": "[encoded data removed]",
      "text/plain": [
       "<matplotlib.figure.Figure at 0x1c6665dd0>"
      ]
     },
     "metadata": {},
     "output_type": "display_data"
    }
   ],
   "source": [
    "for business in result.business_id.unique():\n",
    "    common={}\n",
    "    business_id = business\n",
    "    review_counts, business_df = exploreBusiness(business)\n",
    "    anomaly, normal_data = Ttest_Anomaly_Detection(review_counts)\n",
    "    if len(anomaly)> 1 and normal_data == 1:\n",
    "        period = choosePeriods(anomaly)\n",
    "        print(textAnalysis_of_Anomaly(business_df,business_id,period))"
   ]
  }
 ],
 "metadata": {
  "kernelspec": {
   "display_name": "Python 2",
   "language": "python",
   "name": "python2"
  },
  "language_info": {
   "codemirror_mode": {
    "name": "ipython",
    "version": 2
   },
   "file_extension": ".py",
   "mimetype": "text/x-python",
   "name": "python",
   "nbconvert_exporter": "python",
   "pygments_lexer": "ipython2",
   "version": "2.7.12"
  }
 },
 "nbformat": 4,
 "nbformat_minor": 0
}
