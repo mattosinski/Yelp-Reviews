{
 "cells": [
  {
   "cell_type": "code",
   "execution_count": 38,
   "metadata": {
    "collapsed": true
   },
   "outputs": [],
   "source": [
    "from __future__ import print_function\n",
    "from collections import Counter\n",
    "import numpy as np\n",
    "import pandas as pd\n",
    "from scipy import optimize\n",
    "import matplotlib.mlab as mlab\n",
    "import matplotlib.pyplot as plt\n",
    "%matplotlib inline\n",
    "import pickle\n",
    "import calendar\n",
    "import datetime"
   ]
  },
  {
   "cell_type": "code",
   "execution_count": 6,
   "metadata": {
    "collapsed": false
   },
   "outputs": [],
   "source": [
    "#load the pickle object for quick access\n",
    "result = pd.read_pickle(\"/Users/Matt/Documents/Stevens/BIA660 Web Analytics/yelp_dataset_challenge_academic_dataset/Data/500_Dataset\")"
   ]
  },
  {
   "cell_type": "code",
   "execution_count": 68,
   "metadata": {
    "collapsed": false
   },
   "outputs": [
    {
     "data": {
      "text/html": [
       "<div>\n",
       "<table border=\"1\" class=\"dataframe\">\n",
       "  <thead>\n",
       "    <tr style=\"text-align: right;\">\n",
       "      <th></th>\n",
       "      <th>business_id</th>\n",
       "      <th>date</th>\n",
       "      <th>review_id</th>\n",
       "      <th>stars_x</th>\n",
       "      <th>text</th>\n",
       "      <th>type_x</th>\n",
       "      <th>user_id</th>\n",
       "      <th>votes</th>\n",
       "      <th>attributes</th>\n",
       "      <th>categories</th>\n",
       "      <th>...</th>\n",
       "      <th>hours</th>\n",
       "      <th>latitude</th>\n",
       "      <th>longitude</th>\n",
       "      <th>name</th>\n",
       "      <th>neighborhoods</th>\n",
       "      <th>open</th>\n",
       "      <th>review_count</th>\n",
       "      <th>stars_y</th>\n",
       "      <th>state</th>\n",
       "      <th>type_y</th>\n",
       "    </tr>\n",
       "  </thead>\n",
       "  <tbody>\n",
       "    <tr>\n",
       "      <th>0</th>\n",
       "      <td>mpDxBBGywUE6GRRKja3sBA</td>\n",
       "      <td>2005-09-06</td>\n",
       "      <td>HtqQG2umwuVGbMbHapBm-A</td>\n",
       "      <td>4</td>\n",
       "      <td>Upscale soul food.  Cornbread, fried chicken, ...</td>\n",
       "      <td>review</td>\n",
       "      <td>Puv7uq6Wx4AtL_jVpC4d3w</td>\n",
       "      <td>{u'funny': 0, u'useful': 0, u'cool': 0}</td>\n",
       "      <td>{u'Wheelchair Accessible': True, u'Take-out': ...</td>\n",
       "      <td>[Soul Food, Southern, Restaurants]</td>\n",
       "      <td>...</td>\n",
       "      <td>{u'Monday': {u'close': u'21:30', u'open': u'11...</td>\n",
       "      <td>35.227318</td>\n",
       "      <td>-80.84013</td>\n",
       "      <td>Mert's Heart &amp; Soul</td>\n",
       "      <td>[First Ward]</td>\n",
       "      <td>True</td>\n",
       "      <td>652</td>\n",
       "      <td>3.5</td>\n",
       "      <td>NC</td>\n",
       "      <td>business</td>\n",
       "    </tr>\n",
       "    <tr>\n",
       "      <th>1</th>\n",
       "      <td>mpDxBBGywUE6GRRKja3sBA</td>\n",
       "      <td>2006-03-02</td>\n",
       "      <td>WIe91sMuGkxvPTEBXyIyrQ</td>\n",
       "      <td>4</td>\n",
       "      <td>Cornbread and Sweet Tea. If that was all you a...</td>\n",
       "      <td>review</td>\n",
       "      <td>3Gazlt5RwZQIu1ZWMwi0cg</td>\n",
       "      <td>{u'funny': 0, u'useful': 0, u'cool': 0}</td>\n",
       "      <td>{u'Wheelchair Accessible': True, u'Take-out': ...</td>\n",
       "      <td>[Soul Food, Southern, Restaurants]</td>\n",
       "      <td>...</td>\n",
       "      <td>{u'Monday': {u'close': u'21:30', u'open': u'11...</td>\n",
       "      <td>35.227318</td>\n",
       "      <td>-80.84013</td>\n",
       "      <td>Mert's Heart &amp; Soul</td>\n",
       "      <td>[First Ward]</td>\n",
       "      <td>True</td>\n",
       "      <td>652</td>\n",
       "      <td>3.5</td>\n",
       "      <td>NC</td>\n",
       "      <td>business</td>\n",
       "    </tr>\n",
       "    <tr>\n",
       "      <th>2</th>\n",
       "      <td>mpDxBBGywUE6GRRKja3sBA</td>\n",
       "      <td>2006-11-07</td>\n",
       "      <td>BPZqNCPQz-EC2AOi9WLrEQ</td>\n",
       "      <td>3</td>\n",
       "      <td>This place is ok.  It can be crowded (meaning ...</td>\n",
       "      <td>review</td>\n",
       "      <td>K5dxGhJ99TmS6La6krwkcg</td>\n",
       "      <td>{u'funny': 0, u'useful': 0, u'cool': 0}</td>\n",
       "      <td>{u'Wheelchair Accessible': True, u'Take-out': ...</td>\n",
       "      <td>[Soul Food, Southern, Restaurants]</td>\n",
       "      <td>...</td>\n",
       "      <td>{u'Monday': {u'close': u'21:30', u'open': u'11...</td>\n",
       "      <td>35.227318</td>\n",
       "      <td>-80.84013</td>\n",
       "      <td>Mert's Heart &amp; Soul</td>\n",
       "      <td>[First Ward]</td>\n",
       "      <td>True</td>\n",
       "      <td>652</td>\n",
       "      <td>3.5</td>\n",
       "      <td>NC</td>\n",
       "      <td>business</td>\n",
       "    </tr>\n",
       "    <tr>\n",
       "      <th>3</th>\n",
       "      <td>mpDxBBGywUE6GRRKja3sBA</td>\n",
       "      <td>2007-05-24</td>\n",
       "      <td>QNa7UGC5R_yLY7oJpWQs-Q</td>\n",
       "      <td>4</td>\n",
       "      <td>I think that this place is worth going to just...</td>\n",
       "      <td>review</td>\n",
       "      <td>AJtc4UMsCDw8QJQMyfHa_w</td>\n",
       "      <td>{u'funny': 0, u'useful': 0, u'cool': 0}</td>\n",
       "      <td>{u'Wheelchair Accessible': True, u'Take-out': ...</td>\n",
       "      <td>[Soul Food, Southern, Restaurants]</td>\n",
       "      <td>...</td>\n",
       "      <td>{u'Monday': {u'close': u'21:30', u'open': u'11...</td>\n",
       "      <td>35.227318</td>\n",
       "      <td>-80.84013</td>\n",
       "      <td>Mert's Heart &amp; Soul</td>\n",
       "      <td>[First Ward]</td>\n",
       "      <td>True</td>\n",
       "      <td>652</td>\n",
       "      <td>3.5</td>\n",
       "      <td>NC</td>\n",
       "      <td>business</td>\n",
       "    </tr>\n",
       "    <tr>\n",
       "      <th>4</th>\n",
       "      <td>mpDxBBGywUE6GRRKja3sBA</td>\n",
       "      <td>2007-09-25</td>\n",
       "      <td>S9g5NqdkuU28C6XW0aBd0g</td>\n",
       "      <td>4</td>\n",
       "      <td>Ah Mert's! I love this place! It's not fancy, ...</td>\n",
       "      <td>review</td>\n",
       "      <td>bxGekdRVUysLtZ4BYF8wEQ</td>\n",
       "      <td>{u'funny': 0, u'useful': 1, u'cool': 1}</td>\n",
       "      <td>{u'Wheelchair Accessible': True, u'Take-out': ...</td>\n",
       "      <td>[Soul Food, Southern, Restaurants]</td>\n",
       "      <td>...</td>\n",
       "      <td>{u'Monday': {u'close': u'21:30', u'open': u'11...</td>\n",
       "      <td>35.227318</td>\n",
       "      <td>-80.84013</td>\n",
       "      <td>Mert's Heart &amp; Soul</td>\n",
       "      <td>[First Ward]</td>\n",
       "      <td>True</td>\n",
       "      <td>652</td>\n",
       "      <td>3.5</td>\n",
       "      <td>NC</td>\n",
       "      <td>business</td>\n",
       "    </tr>\n",
       "  </tbody>\n",
       "</table>\n",
       "<p>5 rows × 22 columns</p>\n",
       "</div>"
      ],
      "text/plain": [
       "              business_id        date               review_id  stars_x  \\\n",
       "0  mpDxBBGywUE6GRRKja3sBA  2005-09-06  HtqQG2umwuVGbMbHapBm-A        4   \n",
       "1  mpDxBBGywUE6GRRKja3sBA  2006-03-02  WIe91sMuGkxvPTEBXyIyrQ        4   \n",
       "2  mpDxBBGywUE6GRRKja3sBA  2006-11-07  BPZqNCPQz-EC2AOi9WLrEQ        3   \n",
       "3  mpDxBBGywUE6GRRKja3sBA  2007-05-24  QNa7UGC5R_yLY7oJpWQs-Q        4   \n",
       "4  mpDxBBGywUE6GRRKja3sBA  2007-09-25  S9g5NqdkuU28C6XW0aBd0g        4   \n",
       "\n",
       "                                                text  type_x  \\\n",
       "0  Upscale soul food.  Cornbread, fried chicken, ...  review   \n",
       "1  Cornbread and Sweet Tea. If that was all you a...  review   \n",
       "2  This place is ok.  It can be crowded (meaning ...  review   \n",
       "3  I think that this place is worth going to just...  review   \n",
       "4  Ah Mert's! I love this place! It's not fancy, ...  review   \n",
       "\n",
       "                  user_id                                    votes  \\\n",
       "0  Puv7uq6Wx4AtL_jVpC4d3w  {u'funny': 0, u'useful': 0, u'cool': 0}   \n",
       "1  3Gazlt5RwZQIu1ZWMwi0cg  {u'funny': 0, u'useful': 0, u'cool': 0}   \n",
       "2  K5dxGhJ99TmS6La6krwkcg  {u'funny': 0, u'useful': 0, u'cool': 0}   \n",
       "3  AJtc4UMsCDw8QJQMyfHa_w  {u'funny': 0, u'useful': 0, u'cool': 0}   \n",
       "4  bxGekdRVUysLtZ4BYF8wEQ  {u'funny': 0, u'useful': 1, u'cool': 1}   \n",
       "\n",
       "                                          attributes  \\\n",
       "0  {u'Wheelchair Accessible': True, u'Take-out': ...   \n",
       "1  {u'Wheelchair Accessible': True, u'Take-out': ...   \n",
       "2  {u'Wheelchair Accessible': True, u'Take-out': ...   \n",
       "3  {u'Wheelchair Accessible': True, u'Take-out': ...   \n",
       "4  {u'Wheelchair Accessible': True, u'Take-out': ...   \n",
       "\n",
       "                           categories    ...     \\\n",
       "0  [Soul Food, Southern, Restaurants]    ...      \n",
       "1  [Soul Food, Southern, Restaurants]    ...      \n",
       "2  [Soul Food, Southern, Restaurants]    ...      \n",
       "3  [Soul Food, Southern, Restaurants]    ...      \n",
       "4  [Soul Food, Southern, Restaurants]    ...      \n",
       "\n",
       "                                               hours   latitude longitude  \\\n",
       "0  {u'Monday': {u'close': u'21:30', u'open': u'11...  35.227318 -80.84013   \n",
       "1  {u'Monday': {u'close': u'21:30', u'open': u'11...  35.227318 -80.84013   \n",
       "2  {u'Monday': {u'close': u'21:30', u'open': u'11...  35.227318 -80.84013   \n",
       "3  {u'Monday': {u'close': u'21:30', u'open': u'11...  35.227318 -80.84013   \n",
       "4  {u'Monday': {u'close': u'21:30', u'open': u'11...  35.227318 -80.84013   \n",
       "\n",
       "                  name  neighborhoods  open review_count stars_y  state  \\\n",
       "0  Mert's Heart & Soul   [First Ward]  True          652     3.5     NC   \n",
       "1  Mert's Heart & Soul   [First Ward]  True          652     3.5     NC   \n",
       "2  Mert's Heart & Soul   [First Ward]  True          652     3.5     NC   \n",
       "3  Mert's Heart & Soul   [First Ward]  True          652     3.5     NC   \n",
       "4  Mert's Heart & Soul   [First Ward]  True          652     3.5     NC   \n",
       "\n",
       "     type_y  \n",
       "0  business  \n",
       "1  business  \n",
       "2  business  \n",
       "3  business  \n",
       "4  business  \n",
       "\n",
       "[5 rows x 22 columns]"
      ]
     },
     "execution_count": 68,
     "metadata": {},
     "output_type": "execute_result"
    }
   ],
   "source": [
    "result.head()"
   ]
  },
  {
   "cell_type": "code",
   "execution_count": 66,
   "metadata": {
    "collapsed": false
   },
   "outputs": [],
   "source": [
    "def exploreBusiness(businessID):\n",
    "    #exploratory Analysis for business ID mpDxBBGywUE6GRRKja3sBA\n",
    "    business1 = result[result[\"business_id\"]==businessID]\n",
    "    #change date into datetime\n",
    "    business1['date'] = pd.to_datetime(business1['date'])\n",
    "    business1['Year-Month'] = business1.date.map(lambda x: x.strftime('%Y-%m'))\n",
    "    business1['Qdate'] = [date - pd.tseries.offsets.DateOffset(days=1) + pd.tseries.offsets.QuarterEnd() for date in business1.date]\n",
    "    #review_counts = business1.groupby('Year-Month')['review_id'].count()\n",
    "    review_counts = business1.groupby('Qdate')['review_id'].count()\n",
    "    ax = review_counts.plot(kind='bar', figsize=(20,10))\n",
    "    return ax\n",
    "    "
   ]
  },
  {
   "cell_type": "code",
   "execution_count": 55,
   "metadata": {
    "collapsed": false
   },
   "outputs": [
    {
     "name": "stderr",
     "output_type": "stream",
     "text": [
      "/Users/Matt/anaconda2/anaconda/lib/python2.7/site-packages/ipykernel/__main__.py:5: SettingWithCopyWarning: \n",
      "A value is trying to be set on a copy of a slice from a DataFrame.\n",
      "Try using .loc[row_indexer,col_indexer] = value instead\n",
      "\n",
      "See the caveats in the documentation: http://pandas.pydata.org/pandas-docs/stable/indexing.html#indexing-view-versus-copy\n",
      "/Users/Matt/anaconda2/anaconda/lib/python2.7/site-packages/ipykernel/__main__.py:6: SettingWithCopyWarning: \n",
      "A value is trying to be set on a copy of a slice from a DataFrame.\n",
      "Try using .loc[row_indexer,col_indexer] = value instead\n",
      "\n",
      "See the caveats in the documentation: http://pandas.pydata.org/pandas-docs/stable/indexing.html#indexing-view-versus-copy\n"
     ]
    },
    {
     "data": {
      "text/plain": [
       "<matplotlib.axes._subplots.AxesSubplot at 0x11666d190>"
      ]
     },
     "execution_count": 55,
     "metadata": {},
     "output_type": "execute_result"
    },
    {
     "data": {
      "image/png": "[encoded data removed]",
      "text/plain": [
       "<matplotlib.figure.Figure at 0x17b2ef310>"
      ]
     },
     "metadata": {},
     "output_type": "display_data"
    }
   ],
   "source": [
    "exploreBusiness(\"mpDxBBGywUE6GRRKja3sBA\")"
   ]
  },
  {
   "cell_type": "code",
   "execution_count": 57,
   "metadata": {
    "collapsed": false
   },
   "outputs": [
    {
     "name": "stderr",
     "output_type": "stream",
     "text": [
      "/Users/Matt/anaconda2/anaconda/lib/python2.7/site-packages/ipykernel/__main__.py:5: SettingWithCopyWarning: \n",
      "A value is trying to be set on a copy of a slice from a DataFrame.\n",
      "Try using .loc[row_indexer,col_indexer] = value instead\n",
      "\n",
      "See the caveats in the documentation: http://pandas.pydata.org/pandas-docs/stable/indexing.html#indexing-view-versus-copy\n",
      "/Users/Matt/anaconda2/anaconda/lib/python2.7/site-packages/ipykernel/__main__.py:6: SettingWithCopyWarning: \n",
      "A value is trying to be set on a copy of a slice from a DataFrame.\n",
      "Try using .loc[row_indexer,col_indexer] = value instead\n",
      "\n",
      "See the caveats in the documentation: http://pandas.pydata.org/pandas-docs/stable/indexing.html#indexing-view-versus-copy\n"
     ]
    },
    {
     "data": {
      "text/plain": [
       "<matplotlib.axes._subplots.AxesSubplot at 0x17a773b90>"
      ]
     },
     "execution_count": 57,
     "metadata": {},
     "output_type": "execute_result"
    },
    {
     "data": {
      "image/png": "[encoded data removed]",
      "text/plain": [
       "<matplotlib.figure.Figure at 0x17b6476d0>"
      ]
     },
     "metadata": {},
     "output_type": "display_data"
    }
   ],
   "source": [
    "exploreBusiness(\"HdpRAsa0mPkPJg1x536uSA\")"
   ]
  },
  {
   "cell_type": "code",
   "execution_count": 62,
   "metadata": {
    "collapsed": false
   },
   "outputs": [
    {
     "name": "stderr",
     "output_type": "stream",
     "text": [
      "/Users/Matt/anaconda2/anaconda/lib/python2.7/site-packages/ipykernel/__main__.py:5: SettingWithCopyWarning: \n",
      "A value is trying to be set on a copy of a slice from a DataFrame.\n",
      "Try using .loc[row_indexer,col_indexer] = value instead\n",
      "\n",
      "See the caveats in the documentation: http://pandas.pydata.org/pandas-docs/stable/indexing.html#indexing-view-versus-copy\n",
      "/Users/Matt/anaconda2/anaconda/lib/python2.7/site-packages/ipykernel/__main__.py:6: SettingWithCopyWarning: \n",
      "A value is trying to be set on a copy of a slice from a DataFrame.\n",
      "Try using .loc[row_indexer,col_indexer] = value instead\n",
      "\n",
      "See the caveats in the documentation: http://pandas.pydata.org/pandas-docs/stable/indexing.html#indexing-view-versus-copy\n"
     ]
    },
    {
     "data": {
      "text/plain": [
       "<matplotlib.axes._subplots.AxesSubplot at 0x17b754a90>"
      ]
     },
     "execution_count": 62,
     "metadata": {},
     "output_type": "execute_result"
    },
    {
     "data": {
      "image/png": "[encoded data removed]",
      "text/plain": [
       "<matplotlib.figure.Figure at 0x17df65810>"
      ]
     },
     "metadata": {},
     "output_type": "display_data"
    }
   ],
   "source": [
    "exploreBusiness(\"3Q0QQPnHcJuX1DLCL9G9Cg\")\n",
    "#what happened in 08-2010??"
   ]
  },
  {
   "cell_type": "code",
   "execution_count": 67,
   "metadata": {
    "collapsed": false
   },
   "outputs": [
    {
     "name": "stderr",
     "output_type": "stream",
     "text": [
      "/Users/Matt/anaconda2/anaconda/lib/python2.7/site-packages/ipykernel/__main__.py:5: SettingWithCopyWarning: \n",
      "A value is trying to be set on a copy of a slice from a DataFrame.\n",
      "Try using .loc[row_indexer,col_indexer] = value instead\n",
      "\n",
      "See the caveats in the documentation: http://pandas.pydata.org/pandas-docs/stable/indexing.html#indexing-view-versus-copy\n",
      "/Users/Matt/anaconda2/anaconda/lib/python2.7/site-packages/ipykernel/__main__.py:6: SettingWithCopyWarning: \n",
      "A value is trying to be set on a copy of a slice from a DataFrame.\n",
      "Try using .loc[row_indexer,col_indexer] = value instead\n",
      "\n",
      "See the caveats in the documentation: http://pandas.pydata.org/pandas-docs/stable/indexing.html#indexing-view-versus-copy\n",
      "/Users/Matt/anaconda2/anaconda/lib/python2.7/site-packages/ipykernel/__main__.py:7: SettingWithCopyWarning: \n",
      "A value is trying to be set on a copy of a slice from a DataFrame.\n",
      "Try using .loc[row_indexer,col_indexer] = value instead\n",
      "\n",
      "See the caveats in the documentation: http://pandas.pydata.org/pandas-docs/stable/indexing.html#indexing-view-versus-copy\n"
     ]
    },
    {
     "data": {
      "text/plain": [
       "<matplotlib.axes._subplots.AxesSubplot at 0x17f110d90>"
      ]
     },
     "execution_count": 67,
     "metadata": {},
     "output_type": "execute_result"
    },
    {
     "data": {
      "image/png": "[encoded data removed]",
      "text/plain": [
       "<matplotlib.figure.Figure at 0x16aae3bd0>"
      ]
     },
     "metadata": {},
     "output_type": "display_data"
    }
   ],
   "source": [
    "#this is done by Quarterly periods\n",
    "exploreBusiness(\"3Q0QQPnHcJuX1DLCL9G9Cg\")"
   ]
  },
  {
   "cell_type": "code",
   "execution_count": null,
   "metadata": {
    "collapsed": true
   },
   "outputs": [],
   "source": []
  }
 ],
 "metadata": {
  "kernelspec": {
   "display_name": "Python 2",
   "language": "python",
   "name": "python2"
  },
  "language_info": {
   "codemirror_mode": {
    "name": "ipython",
    "version": 2
   },
   "file_extension": ".py",
   "mimetype": "text/x-python",
   "name": "python",
   "nbconvert_exporter": "python",
   "pygments_lexer": "ipython2",
   "version": "2.7.12"
  }
 },
 "nbformat": 4,
 "nbformat_minor": 0
}
