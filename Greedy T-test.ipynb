{
 "cells": [
  {
   "cell_type": "code",
   "execution_count": 263,
   "metadata": {
    "collapsed": true
   },
   "outputs": [],
   "source": [
    "from __future__ import print_function\n",
    "from collections import Counter\n",
    "import numpy as np\n",
    "import pandas as pd\n",
    "from scipy import optimize\n",
    "import matplotlib.mlab as mlab\n",
    "import matplotlib.pyplot as plt\n",
    "%matplotlib inline\n",
    "import pickle\n",
    "import calendar\n",
    "import datetime\n",
    "from math import log\n",
    "from scipy import stats"
   ]
  },
  {
   "cell_type": "code",
   "execution_count": 2,
   "metadata": {
    "collapsed": true
   },
   "outputs": [],
   "source": [
    "#load the pickle object for quick access\n",
    "result = pd.read_pickle(\"/Users/Matt/Documents/Stevens/BIA660 Web Analytics/yelp_dataset_challenge_academic_dataset/Data/500_Dataset\")"
   ]
  },
  {
   "cell_type": "code",
   "execution_count": 437,
   "metadata": {
    "collapsed": true
   },
   "outputs": [],
   "source": [
    "def exploreBusiness(businessID):\n",
    "    #exploratory Analysis for business ID mpDxBBGywUE6GRRKja3sBA\n",
    "    business1 = result[result[\"business_id\"]==businessID]\n",
    "    #change date into datetime\n",
    "    business1['date'] = pd.to_datetime(business1['date'])\n",
    "    business1['Year-Month'] = business1.date.map(lambda x: x.strftime('%Y-%m'))\n",
    "    business1['Qdate'] = [date - pd.tseries.offsets.DateOffset(days=1) + pd.tseries.offsets.QuarterEnd() for date in business1.date]\n",
    "    #review_counts = business1.groupby('Year-Month')['review_id'].count()\n",
    "    review_counts = business1.groupby('Year-Month')['stars_x'].count()\n",
    "    ax = review_counts.plot(kind='bar', figsize=(20,10))\n",
    "    return ax, review_counts"
   ]
  },
  {
   "cell_type": "code",
   "execution_count": 438,
   "metadata": {
    "collapsed": false
   },
   "outputs": [
    {
     "name": "stderr",
     "output_type": "stream",
     "text": [
      "/Users/Matt/anaconda2/anaconda/lib/python2.7/site-packages/ipykernel/__main__.py:5: SettingWithCopyWarning: \n",
      "A value is trying to be set on a copy of a slice from a DataFrame.\n",
      "Try using .loc[row_indexer,col_indexer] = value instead\n",
      "\n",
      "See the caveats in the documentation: http://pandas.pydata.org/pandas-docs/stable/indexing.html#indexing-view-versus-copy\n",
      "/Users/Matt/anaconda2/anaconda/lib/python2.7/site-packages/ipykernel/__main__.py:6: SettingWithCopyWarning: \n",
      "A value is trying to be set on a copy of a slice from a DataFrame.\n",
      "Try using .loc[row_indexer,col_indexer] = value instead\n",
      "\n",
      "See the caveats in the documentation: http://pandas.pydata.org/pandas-docs/stable/indexing.html#indexing-view-versus-copy\n",
      "/Users/Matt/anaconda2/anaconda/lib/python2.7/site-packages/ipykernel/__main__.py:7: SettingWithCopyWarning: \n",
      "A value is trying to be set on a copy of a slice from a DataFrame.\n",
      "Try using .loc[row_indexer,col_indexer] = value instead\n",
      "\n",
      "See the caveats in the documentation: http://pandas.pydata.org/pandas-docs/stable/indexing.html#indexing-view-versus-copy\n"
     ]
    },
    {
     "data": {
      "text/plain": [
       "(<matplotlib.axes._subplots.AxesSubplot at 0x12adaf710>, Year-Month\n",
       " 2006-11     2\n",
       " 2007-06     2\n",
       " 2007-07     1\n",
       " 2007-08     1\n",
       " 2007-12     1\n",
       " 2008-01     1\n",
       " 2008-02     1\n",
       " 2008-03     5\n",
       " 2008-04     2\n",
       " 2008-05     6\n",
       " 2008-07     4\n",
       " 2008-08     2\n",
       " 2008-09     2\n",
       " 2008-10     2\n",
       " 2008-11     3\n",
       " 2008-12     4\n",
       " 2009-01     3\n",
       " 2009-02     1\n",
       " 2009-03     1\n",
       " 2009-04     3\n",
       " 2009-05     2\n",
       " 2009-07     3\n",
       " 2009-08     3\n",
       " 2009-09     1\n",
       " 2009-10     1\n",
       " 2009-12     5\n",
       " 2010-01     3\n",
       " 2010-02     2\n",
       " 2010-03     1\n",
       " 2010-04     2\n",
       "            ..\n",
       " 2014-02    22\n",
       " 2014-03    17\n",
       " 2014-04    26\n",
       " 2014-05    21\n",
       " 2014-06    24\n",
       " 2014-07    30\n",
       " 2014-08    28\n",
       " 2014-09    17\n",
       " 2014-10    24\n",
       " 2014-11    17\n",
       " 2014-12    13\n",
       " 2015-01    21\n",
       " 2015-02    17\n",
       " 2015-03    15\n",
       " 2015-04    18\n",
       " 2015-05    20\n",
       " 2015-06    12\n",
       " 2015-07    23\n",
       " 2015-08    29\n",
       " 2015-09    19\n",
       " 2015-10    12\n",
       " 2015-11    11\n",
       " 2015-12    16\n",
       " 2016-01    19\n",
       " 2016-02    15\n",
       " 2016-03    12\n",
       " 2016-04    17\n",
       " 2016-05    27\n",
       " 2016-06    28\n",
       " 2016-07    13\n",
       " Name: stars_x, dtype: int64)"
      ]
     },
     "execution_count": 438,
     "metadata": {},
     "output_type": "execute_result"
    },
    {
     "data": {
      "image/png": "[encoded data removed]",
      "text/plain": [
       "<matplotlib.figure.Figure at 0x12ad6c090>"
      ]
     },
     "metadata": {},
     "output_type": "display_data"
    }
   ],
   "source": [
    "exploreBusiness('3Q0QQPnHcJuX1DLCL9G9Cg')"
   ]
  },
  {
   "cell_type": "code",
   "execution_count": 447,
   "metadata": {
    "collapsed": true
   },
   "outputs": [],
   "source": []
  },
  {
   "cell_type": "code",
   "execution_count": 462,
   "metadata": {
    "collapsed": false
   },
   "outputs": [],
   "source": [
    "def slidingTtest(review_counts):\n",
    "    anomaly = {} #initialize dict\n",
    "    d = {}\n",
    "    anomaly = {}\n",
    "    for ind, value in review_counts.iteritems():\n",
    "        d[ind] = value\n",
    "        #print(ind)\n",
    "        if len(d) >= 31: #need 30 samples because the data is non-normal\n",
    "            #t-test to compare the next month/year sample to the mean of all the prior ones   \n",
    "            one_sample = stats.ttest_1samp(d.values()[0:(len(d)-2)], d.values()[len(d)-1]) #compares the entire period\n",
    "            if one_sample.pvalue < 0.05: #null hypothesis: new sample = prior mean\n",
    "                anomaly[ind]=1  #there is a statistically signifant difference, where the new sample != prior mean\n",
    "            else:\n",
    "                anomaly[ind]=0 #no evidence of a difference\n",
    "    return anomaly"
   ]
  },
  {
   "cell_type": "code",
   "execution_count": 463,
   "metadata": {
    "collapsed": false
   },
   "outputs": [
    {
     "data": {
      "text/plain": [
       "{'2010-05': 1,\n",
       " '2010-06': 1,\n",
       " '2010-07': 1,\n",
       " '2010-08': 1,\n",
       " '2010-09': 1,\n",
       " '2010-10': 1,\n",
       " '2010-11': 1,\n",
       " '2010-12': 1,\n",
       " '2011-01': 1,\n",
       " '2011-02': 0,\n",
       " '2011-03': 0,\n",
       " '2011-04': 0,\n",
       " '2011-05': 0,\n",
       " '2011-06': 0,\n",
       " '2011-07': 0,\n",
       " '2011-08': 0,\n",
       " '2011-09': 0,\n",
       " '2011-10': 0,\n",
       " '2011-11': 0,\n",
       " '2011-12': 0,\n",
       " '2012-01': 0,\n",
       " '2012-02': 0,\n",
       " '2012-03': 0,\n",
       " '2012-04': 0,\n",
       " '2012-05': 0,\n",
       " '2012-06': 0,\n",
       " '2012-07': 0,\n",
       " '2012-08': 1,\n",
       " '2012-09': 1,\n",
       " '2012-10': 1,\n",
       " '2012-11': 1,\n",
       " '2012-12': 1,\n",
       " '2013-01': 1,\n",
       " '2013-02': 1,\n",
       " '2013-03': 1,\n",
       " '2013-04': 1,\n",
       " '2013-05': 1,\n",
       " '2013-06': 1,\n",
       " '2013-07': 1,\n",
       " '2013-08': 1,\n",
       " '2013-09': 1,\n",
       " '2013-10': 1,\n",
       " '2013-11': 1,\n",
       " '2013-12': 1,\n",
       " '2014-01': 1,\n",
       " '2014-02': 1,\n",
       " '2014-03': 1,\n",
       " '2014-04': 1,\n",
       " '2014-05': 1,\n",
       " '2014-06': 1,\n",
       " '2014-07': 1,\n",
       " '2014-08': 1,\n",
       " '2014-09': 1,\n",
       " '2014-10': 1,\n",
       " '2014-11': 1,\n",
       " '2014-12': 1,\n",
       " '2015-01': 1,\n",
       " '2015-02': 1,\n",
       " '2015-03': 1,\n",
       " '2015-04': 1,\n",
       " '2015-05': 1,\n",
       " '2015-06': 1,\n",
       " '2015-07': 1,\n",
       " '2015-08': 1,\n",
       " '2015-09': 1,\n",
       " '2015-10': 1,\n",
       " '2015-11': 1,\n",
       " '2015-12': 1,\n",
       " '2016-01': 1,\n",
       " '2016-02': 1,\n",
       " '2016-03': 1,\n",
       " '2016-04': 1,\n",
       " '2016-05': 1,\n",
       " '2016-06': 1,\n",
       " '2016-07': 1}"
      ]
     },
     "execution_count": 463,
     "metadata": {},
     "output_type": "execute_result"
    }
   ],
   "source": [
    "slidingTtest(review_counts)"
   ]
  },
  {
   "cell_type": "code",
   "execution_count": null,
   "metadata": {
    "collapsed": true
   },
   "outputs": [],
   "source": []
  }
 ],
 "metadata": {
  "kernelspec": {
   "display_name": "Python 2",
   "language": "python",
   "name": "python2"
  },
  "language_info": {
   "codemirror_mode": {
    "name": "ipython",
    "version": 2
   },
   "file_extension": ".py",
   "mimetype": "text/x-python",
   "name": "python",
   "nbconvert_exporter": "python",
   "pygments_lexer": "ipython2",
   "version": "2.7.12"
  }
 },
 "nbformat": 4,
 "nbformat_minor": 0
}
